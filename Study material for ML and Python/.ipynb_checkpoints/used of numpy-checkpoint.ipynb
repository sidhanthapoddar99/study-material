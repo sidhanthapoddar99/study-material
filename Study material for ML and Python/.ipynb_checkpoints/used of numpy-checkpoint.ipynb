{
 "cells": [
  {
   "cell_type": "code",
   "execution_count": null,
   "metadata": {},
   "outputs": [],
   "source": []
  },
  {
   "cell_type": "code",
   "execution_count": null,
   "metadata": {},
   "outputs": [],
   "source": []
  },
  {
   "cell_type": "markdown",
   "metadata": {},
   "source": [
    "# Dstack Vstack Hstack"
   ]
  },
  {
   "cell_type": "code",
   "execution_count": null,
   "metadata": {},
   "outputs": [],
   "source": [
    "def load_file(filepath):\n",
    "    dataframe = read_csv(filepath, header=None, delim_whitespace=True)\n",
    "    return dataframe.values"
   ]
  },
  {
   "cell_type": "code",
   "execution_count": null,
   "metadata": {},
   "outputs": [],
   "source": [
    "def load_group(filenames, prefix=''):\n",
    "    loaded = list()\n",
    "    for name in filenames:\n",
    "        data = load_file(prefix + name)\n",
    "        loaded.append(data)\n",
    "    # stack group so that features are the 3rd dimension\n",
    "    loaded = dstack(loaded)\n",
    "    return loaded\n",
    "files1=[\"Acc\",\"LAcc\",\"Mag\",\"Gra\",\"Gyr\"]\n",
    "files2=[]\n",
    "for i in files1:\n",
    "    for j in [\"x\",\"y\",\"z\"]:\n",
    "        files2+=[\"data/\"+i+\"_\"+j+\".txt\"]\n",
    "pred=load_group(files2)        "
   ]
  },
  {
   "cell_type": "code",
   "execution_count": null,
   "metadata": {},
   "outputs": [],
   "source": [
    "print(a.shape, b.shape)\n",
    "# (3, 2) (3, 2)\n",
    "print(np.vstack((a, b)).shape)\n",
    "# (6, 2)\n",
    "print(np.hstack((a, b)).shape)\n",
    "# (3, 4)\n",
    "print(np.dstack((a, b)).shape)\n",
    "# (3, 2, 2)"
   ]
  },
  {
   "cell_type": "code",
   "execution_count": 1,
   "metadata": {},
   "outputs": [],
   "source": [
    "from numpy import hstack,vstack,dstack\n",
    "import numpy as np\n",
    "import pandas as pd"
   ]
  },
  {
   "cell_type": "code",
   "execution_count": 15,
   "metadata": {},
   "outputs": [],
   "source": [
    "a1=np.array([[[1 for k in range(0,3)]for j in range(0,3)]for i in range(0,3)])\n",
    "b1=np.array([[[2 for k in range(0,3)]for j in range(0,3)]for i in range(0,3)])"
   ]
  },
  {
   "cell_type": "code",
   "execution_count": 16,
   "metadata": {},
   "outputs": [],
   "source": [
    "a=np.array([[1 for j in range(0,3)]for i in range(0,3)])\n",
    "b=np.array([[2 for j in range(0,3)]for i in range(0,3)])"
   ]
  },
  {
   "cell_type": "code",
   "execution_count": 17,
   "metadata": {},
   "outputs": [],
   "source": [
    "a2=np.array([[[[1 for l in range(0,3)] for k in range(0,3)]for j in range(0,3)]for i in range(0,3)])\n",
    "b2=np.array([[[[2 for l in range(0,3)] for k in range(0,3)]for j in range(0,3)]for i in range(0,3)])"
   ]
  },
  {
   "cell_type": "code",
   "execution_count": 13,
   "metadata": {
    "scrolled": true
   },
   "outputs": [
    {
     "data": {
      "text/plain": [
       "array([[[[1, 1, 1],\n",
       "         [1, 1, 1],\n",
       "         [1, 1, 1]],\n",
       "\n",
       "        [[1, 1, 1],\n",
       "         [1, 1, 1],\n",
       "         [1, 1, 1]],\n",
       "\n",
       "        [[1, 1, 1],\n",
       "         [1, 1, 1],\n",
       "         [1, 1, 1]]],\n",
       "\n",
       "\n",
       "       [[[1, 1, 1],\n",
       "         [1, 1, 1],\n",
       "         [1, 1, 1]],\n",
       "\n",
       "        [[1, 1, 1],\n",
       "         [1, 1, 1],\n",
       "         [1, 1, 1]],\n",
       "\n",
       "        [[1, 1, 1],\n",
       "         [1, 1, 1],\n",
       "         [1, 1, 1]]],\n",
       "\n",
       "\n",
       "       [[[1, 1, 1],\n",
       "         [1, 1, 1],\n",
       "         [1, 1, 1]],\n",
       "\n",
       "        [[1, 1, 1],\n",
       "         [1, 1, 1],\n",
       "         [1, 1, 1]],\n",
       "\n",
       "        [[1, 1, 1],\n",
       "         [1, 1, 1],\n",
       "         [1, 1, 1]]]])"
      ]
     },
     "execution_count": 13,
     "metadata": {},
     "output_type": "execute_result"
    }
   ],
   "source": [
    "a2"
   ]
  },
  {
   "cell_type": "code",
   "execution_count": 21,
   "metadata": {},
   "outputs": [
    {
     "data": {
      "text/html": [
       "<div>\n",
       "<style scoped>\n",
       "    .dataframe tbody tr th:only-of-type {\n",
       "        vertical-align: middle;\n",
       "    }\n",
       "\n",
       "    .dataframe tbody tr th {\n",
       "        vertical-align: top;\n",
       "    }\n",
       "\n",
       "    .dataframe thead th {\n",
       "        text-align: right;\n",
       "    }\n",
       "</style>\n",
       "<table border=\"1\" class=\"dataframe\">\n",
       "  <thead>\n",
       "    <tr style=\"text-align: right;\">\n",
       "      <th></th>\n",
       "      <th>0</th>\n",
       "      <th>1</th>\n",
       "      <th>2</th>\n",
       "    </tr>\n",
       "  </thead>\n",
       "  <tbody>\n",
       "    <tr>\n",
       "      <td>0</td>\n",
       "      <td>[[1, 1, 1], [1, 1, 1], [1, 1, 1]]</td>\n",
       "      <td>[[1, 1, 1], [1, 1, 1], [1, 1, 1]]</td>\n",
       "      <td>[[1, 1, 1], [1, 1, 1], [1, 1, 1]]</td>\n",
       "    </tr>\n",
       "    <tr>\n",
       "      <td>1</td>\n",
       "      <td>[[1, 1, 1], [1, 1, 1], [1, 1, 1]]</td>\n",
       "      <td>[[1, 1, 1], [1, 1, 1], [1, 1, 1]]</td>\n",
       "      <td>[[1, 1, 1], [1, 1, 1], [1, 1, 1]]</td>\n",
       "    </tr>\n",
       "    <tr>\n",
       "      <td>2</td>\n",
       "      <td>[[1, 1, 1], [1, 1, 1], [1, 1, 1]]</td>\n",
       "      <td>[[1, 1, 1], [1, 1, 1], [1, 1, 1]]</td>\n",
       "      <td>[[1, 1, 1], [1, 1, 1], [1, 1, 1]]</td>\n",
       "    </tr>\n",
       "  </tbody>\n",
       "</table>\n",
       "</div>"
      ],
      "text/plain": [
       "                                   0                                  1  \\\n",
       "0  [[1, 1, 1], [1, 1, 1], [1, 1, 1]]  [[1, 1, 1], [1, 1, 1], [1, 1, 1]]   \n",
       "1  [[1, 1, 1], [1, 1, 1], [1, 1, 1]]  [[1, 1, 1], [1, 1, 1], [1, 1, 1]]   \n",
       "2  [[1, 1, 1], [1, 1, 1], [1, 1, 1]]  [[1, 1, 1], [1, 1, 1], [1, 1, 1]]   \n",
       "\n",
       "                                   2  \n",
       "0  [[1, 1, 1], [1, 1, 1], [1, 1, 1]]  \n",
       "1  [[1, 1, 1], [1, 1, 1], [1, 1, 1]]  \n",
       "2  [[1, 1, 1], [1, 1, 1], [1, 1, 1]]  "
      ]
     },
     "execution_count": 21,
     "metadata": {},
     "output_type": "execute_result"
    }
   ],
   "source": [
    "pd.DataFrame([[[[1 for l in range(0,3)] for k in range(0,3)]for j in range(0,3)]for i in range(0,3)])"
   ]
  },
  {
   "cell_type": "code",
   "execution_count": 18,
   "metadata": {
    "scrolled": false
   },
   "outputs": [
    {
     "name": "stdout",
     "output_type": "stream",
     "text": [
      "(6, 3, 3, 3) \n",
      "\n",
      "\n",
      "\n",
      "[[1 1 1]\n",
      " [1 1 1]\n",
      " [1 1 1]\n",
      " [2 2 2]\n",
      " [2 2 2]\n",
      " [2 2 2]]\n"
     ]
    }
   ],
   "source": [
    "print(vstack((a2, b2)).shape,\"\\n\\n\\n\")\n",
    "print(vstack((a, b)))"
   ]
  },
  {
   "cell_type": "code",
   "execution_count": 20,
   "metadata": {},
   "outputs": [
    {
     "name": "stdout",
     "output_type": "stream",
     "text": [
      "(3, 3, 6, 3) \n",
      "\n",
      "\n",
      "\n",
      "[[[[1 1 1]\n",
      "   [1 1 1]\n",
      "   [1 1 1]\n",
      "   [2 2 2]\n",
      "   [2 2 2]\n",
      "   [2 2 2]]\n",
      "\n",
      "  [[1 1 1]\n",
      "   [1 1 1]\n",
      "   [1 1 1]\n",
      "   [2 2 2]\n",
      "   [2 2 2]\n",
      "   [2 2 2]]\n",
      "\n",
      "  [[1 1 1]\n",
      "   [1 1 1]\n",
      "   [1 1 1]\n",
      "   [2 2 2]\n",
      "   [2 2 2]\n",
      "   [2 2 2]]]\n",
      "\n",
      "\n",
      " [[[1 1 1]\n",
      "   [1 1 1]\n",
      "   [1 1 1]\n",
      "   [2 2 2]\n",
      "   [2 2 2]\n",
      "   [2 2 2]]\n",
      "\n",
      "  [[1 1 1]\n",
      "   [1 1 1]\n",
      "   [1 1 1]\n",
      "   [2 2 2]\n",
      "   [2 2 2]\n",
      "   [2 2 2]]\n",
      "\n",
      "  [[1 1 1]\n",
      "   [1 1 1]\n",
      "   [1 1 1]\n",
      "   [2 2 2]\n",
      "   [2 2 2]\n",
      "   [2 2 2]]]\n",
      "\n",
      "\n",
      " [[[1 1 1]\n",
      "   [1 1 1]\n",
      "   [1 1 1]\n",
      "   [2 2 2]\n",
      "   [2 2 2]\n",
      "   [2 2 2]]\n",
      "\n",
      "  [[1 1 1]\n",
      "   [1 1 1]\n",
      "   [1 1 1]\n",
      "   [2 2 2]\n",
      "   [2 2 2]\n",
      "   [2 2 2]]\n",
      "\n",
      "  [[1 1 1]\n",
      "   [1 1 1]\n",
      "   [1 1 1]\n",
      "   [2 2 2]\n",
      "   [2 2 2]\n",
      "   [2 2 2]]]]\n"
     ]
    }
   ],
   "source": [
    "print(dstack((a2, b2)).shape,\"\\n\\n\\n\")\n",
    "print(dstack((a2, b2)))"
   ]
  },
  {
   "cell_type": "code",
   "execution_count": 19,
   "metadata": {},
   "outputs": [
    {
     "name": "stdout",
     "output_type": "stream",
     "text": [
      "(3, 6, 3) \n",
      "\n",
      "\n",
      "\n",
      "[[[1 1 1]\n",
      "  [1 1 1]\n",
      "  [1 1 1]\n",
      "  [2 2 2]\n",
      "  [2 2 2]\n",
      "  [2 2 2]]\n",
      "\n",
      " [[1 1 1]\n",
      "  [1 1 1]\n",
      "  [1 1 1]\n",
      "  [2 2 2]\n",
      "  [2 2 2]\n",
      "  [2 2 2]]\n",
      "\n",
      " [[1 1 1]\n",
      "  [1 1 1]\n",
      "  [1 1 1]\n",
      "  [2 2 2]\n",
      "  [2 2 2]\n",
      "  [2 2 2]]]\n"
     ]
    }
   ],
   "source": [
    "print(hstack((a, b)).shape,\"\\n\\n\\n\")\n",
    "print(hstack((a, b)))"
   ]
  },
  {
   "cell_type": "markdown",
   "metadata": {},
   "source": [
    "# Reshape"
   ]
  },
  {
   "cell_type": "code",
   "execution_count": null,
   "metadata": {},
   "outputs": [],
   "source": [
    "arr=arr.shape(dim1,dim2,dim3)\n",
    "pred = pred.reshape((pred.shape[0], n_steps, n_length, n_features))"
   ]
  },
  {
   "cell_type": "markdown",
   "metadata": {},
   "source": [
    "## Save numpy"
   ]
  },
  {
   "cell_type": "code",
   "execution_count": null,
   "metadata": {},
   "outputs": [],
   "source": [
    "numpy.savetxt(\"foo.csv\", a, delimiter=\",\")"
   ]
  }
 ],
 "metadata": {
  "kernelspec": {
   "display_name": "Python 3",
   "language": "python",
   "name": "python3"
  },
  "language_info": {
   "codemirror_mode": {
    "name": "ipython",
    "version": 3
   },
   "file_extension": ".py",
   "mimetype": "text/x-python",
   "name": "python",
   "nbconvert_exporter": "python",
   "pygments_lexer": "ipython3",
   "version": "3.7.4"
  }
 },
 "nbformat": 4,
 "nbformat_minor": 2
}
