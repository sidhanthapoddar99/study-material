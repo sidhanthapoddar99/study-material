{
 "cells": [
  {
   "cell_type": "markdown",
   "metadata": {},
   "source": [
    "install pip install pymysql"
   ]
  },
  {
   "cell_type": "markdown",
   "metadata": {},
   "source": [
    "# Example"
   ]
  },
  {
   "cell_type": "code",
   "execution_count": null,
   "metadata": {},
   "outputs": [],
   "source": [
    "import pymysql\n",
    "\n",
    "#database connection\n",
    "connection = pymysql.connect(host=\"localhost\",user=\"root\",passwd=\"\",database=\"databaseName\" )\n",
    "cursor = connection.cursor()\n",
    "# some other statements  with the help of cursor\n",
    "connection.close()"
   ]
  },
  {
   "cell_type": "markdown",
   "metadata": {},
   "source": [
    "# Python MySQL Example – creating table\n"
   ]
  },
  {
   "cell_type": "code",
   "execution_count": null,
   "metadata": {},
   "outputs": [],
   "source": [
    "import pymysql\n",
    "\n",
    "#database connection\n",
    "connection = pymysql.connect(host=\"localhost\", user=\"root\", passwd=\"\", database=\"databaseName\")\n",
    "cursor = connection.cursor()\n",
    "# Query for creating table\n",
    "ArtistTableSql = \"\"\"CREATE TABLE Artists(\n",
    "ID INT(20) PRIMARY KEY AUTO_INCREMENT,\n",
    "NAME  CHAR(20) NOT NULL,\n",
    "TRACK CHAR(10))\"\"\"\n",
    "\n",
    "cursor.execute(ArtistTableSql)\n",
    "connection.close()"
   ]
  },
  {
   "cell_type": "markdown",
   "metadata": {},
   "source": [
    "# Python MySQL insert"
   ]
  },
  {
   "cell_type": "code",
   "execution_count": null,
   "metadata": {},
   "outputs": [],
   "source": [
    "import pymysql\n",
    "\n",
    "#database connection\n",
    "connection = pymysql.connect(host=\"localhost\", user=\"root\", passwd=\"\", database=\"databaseName\")\n",
    "cursor = connection.cursor()\n",
    "\n",
    "# queries for inserting values\n",
    "insert1 = \"INSERT INTO Artists(NAME, TRACK) VALUES('Towang', 'Jazz' );\"\n",
    "insert2 = \"INSERT INTO Artists(NAME, TRACK) VALUES('Sadduz', 'Rock' );\"\n",
    "\n",
    "#executing the quires\n",
    "cursor.execute(insert1)\n",
    "cursor.execute(insert2)\n",
    "\n",
    "\n",
    "#commiting the connection then closing it.\n",
    "connection.commit()\n",
    "connection.close()"
   ]
  },
  {
   "cell_type": "markdown",
   "metadata": {},
   "source": [
    "# Python MySQL select"
   ]
  },
  {
   "cell_type": "code",
   "execution_count": null,
   "metadata": {},
   "outputs": [],
   "source": [
    "import pymysql\n",
    "\n",
    "#database connection\n",
    "connection = pymysql.connect(host=\"localhost\", user=\"root\", passwd=\"\", database=\"databaseName\")\n",
    "cursor = connection.cursor()\n",
    "\n",
    "# queries for retrievint all rows\n",
    "retrive = \"Select * from Artists;\"\n",
    "\n",
    "#executing the quires\n",
    "cursor.execute(retrive)\n",
    "rows = cursor.fetchall()\n",
    "for row in rows:\n",
    "    print(row)\n",
    "\n",
    "\n",
    "#commiting the connection then closing it.\n",
    "connection.commit()\n",
    "connection.close()\n"
   ]
  },
  {
   "cell_type": "markdown",
   "metadata": {},
   "source": [
    "# Python MySQL update delete Drop Table\n"
   ]
  },
  {
   "cell_type": "code",
   "execution_count": null,
   "metadata": {},
   "outputs": [],
   "source": [
    "updateSql = \"UPDATE  Artists SET NAME= 'Tauwang'  WHERE ID = '1' ;\"\n",
    "cursor.execute(updateSql  )\n",
    "\n",
    "deleteSql = \"DELETE FROM Artists WHERE ID = '1'; \"\n",
    "cursor.execute(deleteSql )\n",
    "\n",
    "dropSql = \"DROP TABLE IF EXISTS Artists;\"\n",
    "cursor.execute(dropSql)"
   ]
  }
 ],
 "metadata": {
  "kernelspec": {
   "display_name": "Python 3",
   "language": "python",
   "name": "python3"
  },
  "language_info": {
   "codemirror_mode": {
    "name": "ipython",
    "version": 3
   },
   "file_extension": ".py",
   "mimetype": "text/x-python",
   "name": "python",
   "nbconvert_exporter": "python",
   "pygments_lexer": "ipython3",
   "version": "3.7.4"
  }
 },
 "nbformat": 4,
 "nbformat_minor": 2
}
