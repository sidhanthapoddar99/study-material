{
 "cells": [
  {
   "cell_type": "markdown",
   "metadata": {},
   "source": [
    "the server binds and the host connects no materr it is sending or receiving"
   ]
  },
  {
   "cell_type": "code",
   "execution_count": null,
   "metadata": {},
   "outputs": [],
   "source": [
    "import socket                \n",
    "\n",
    "s = socket.socket()          \n",
    "print (\"Socket successfully created\")\n",
    "port = 12345                \n",
    "s.bind(('192.168.43.193', port))         \n",
    "print (\"socket binded to %s\" %(port)) \n",
    "\n",
    "s.listen(5)      \n",
    "print (\"socket is listening\")            \n",
    "while True: \n",
    "  # Establish connection with client. \n",
    "    c, addr = s.accept()      \n",
    "    print ('Got connection from', addr) \n",
    "   # send a thank you message to the client.  \n",
    "    c.send('Thank you for connecting'.encode('utf-8')) \n",
    "  # Close the connection with the client \n",
    "    c.close() \n"
   ]
  },
  {
   "cell_type": "code",
   "execution_count": null,
   "metadata": {
    "ExecuteTime": {
     "start_time": "2019-10-19T14:32:50.042Z"
    }
   },
   "outputs": [
    {
     "name": "stdout",
     "output_type": "stream",
     "text": [
      "Socket successfully created\n",
      "socket binded to 12345\n",
      "socket is listening\n",
      "Got connection from ('192.168.43.86', 60805)\n"
     ]
    }
   ],
   "source": [
    "# first of all import the socket library \n",
    "import socket                \n",
    "  \n",
    "# next create a socket object \n",
    "s = socket.socket()          \n",
    "print (\"Socket successfully created\")\n",
    "  \n",
    "# reserve a port on your computer in our \n",
    "# case it is 12345 but it can be anything \n",
    "port = 12345                \n",
    "  \n",
    "# Next bind to the port \n",
    "# we have not typed any ip in the ip field \n",
    "# instead we have inputted an empty string \n",
    "# this makes the server listen to requests  \n",
    "# coming from other computers on the network \n",
    "s.bind(('192.168.43.193', port))         \n",
    "print (\"socket binded to %s\" %(port)) \n",
    "  \n",
    "# put the socket into listening mode \n",
    "s.listen(5)      \n",
    "print (\"socket is listening\")            \n",
    "  \n",
    "# a forever loop until we interrupt it or  \n",
    "# an error occurs \n",
    "while True: \n",
    "  # Establish connection with client. \n",
    "    c, addr = s.accept()      \n",
    "    print ('Got connection from', addr) \n",
    "   # send a thank you message to the client.  \n",
    "    c.send('Thank you for connecting'.encode('utf-8')) \n",
    "  # Close the connection with the client \n",
    "    c.close() \n"
   ]
  },
  {
   "cell_type": "code",
   "execution_count": null,
   "metadata": {},
   "outputs": [],
   "source": []
  }
 ],
 "metadata": {
  "kernelspec": {
   "display_name": "Python 3",
   "language": "python",
   "name": "python3"
  },
  "language_info": {
   "codemirror_mode": {
    "name": "ipython",
    "version": 3
   },
   "file_extension": ".py",
   "mimetype": "text/x-python",
   "name": "python",
   "nbconvert_exporter": "python",
   "pygments_lexer": "ipython3",
   "version": "3.7.3"
  },
  "toc": {
   "base_numbering": 1,
   "nav_menu": {},
   "number_sections": true,
   "sideBar": true,
   "skip_h1_title": false,
   "title_cell": "Table of Contents",
   "title_sidebar": "Contents",
   "toc_cell": false,
   "toc_position": {},
   "toc_section_display": true,
   "toc_window_display": false
  },
  "varInspector": {
   "cols": {
    "lenName": 16,
    "lenType": 16,
    "lenVar": 40
   },
   "kernels_config": {
    "python": {
     "delete_cmd_postfix": "",
     "delete_cmd_prefix": "del ",
     "library": "var_list.py",
     "varRefreshCmd": "print(var_dic_list())"
    },
    "r": {
     "delete_cmd_postfix": ") ",
     "delete_cmd_prefix": "rm(",
     "library": "var_list.r",
     "varRefreshCmd": "cat(var_dic_list()) "
    }
   },
   "types_to_exclude": [
    "module",
    "function",
    "builtin_function_or_method",
    "instance",
    "_Feature"
   ],
   "window_display": false
  }
 },
 "nbformat": 4,
 "nbformat_minor": 2
}
