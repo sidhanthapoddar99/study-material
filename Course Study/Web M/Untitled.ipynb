{
 "cells": [
  {
   "cell_type": "code",
   "execution_count": 1,
   "metadata": {},
   "outputs": [
    {
     "name": "stderr",
     "output_type": "stream",
     "text": [
      "[nltk_data] Downloading package stopwords to\n",
      "[nltk_data]     C:\\Users\\sidha\\AppData\\Roaming\\nltk_data...\n",
      "[nltk_data]   Unzipping corpora\\stopwords.zip.\n",
      "[nltk_data] Downloading package punkt to\n",
      "[nltk_data]     C:\\Users\\sidha\\AppData\\Roaming\\nltk_data...\n",
      "[nltk_data]   Unzipping tokenizers\\punkt.zip.\n"
     ]
    },
    {
     "data": {
      "text/plain": [
       "True"
      ]
     },
     "execution_count": 1,
     "metadata": {},
     "output_type": "execute_result"
    }
   ],
   "source": [
    "import nltk\n",
    "nltk.download('stopwords')\n",
    "nltk.download('punkt')\n"
   ]
  },
  {
   "cell_type": "code",
   "execution_count": 6,
   "metadata": {},
   "outputs": [
    {
     "ename": "ImportError",
     "evalue": "cannot import name 'punkt' from 'nltk.corpus' (C:\\Users\\sidha\\.conda\\envs\\nlp\\lib\\site-packages\\nltk\\corpus\\__init__.py)",
     "output_type": "error",
     "traceback": [
      "\u001b[1;31m---------------------------------------------------------------------------\u001b[0m",
      "\u001b[1;31mImportError\u001b[0m                               Traceback (most recent call last)",
      "\u001b[1;32m<ipython-input-6-640a6460d9b8>\u001b[0m in \u001b[0;36m<module>\u001b[1;34m\u001b[0m\n\u001b[0;32m      1\u001b[0m \u001b[1;32mfrom\u001b[0m \u001b[0mnltk\u001b[0m\u001b[1;33m.\u001b[0m\u001b[0mcorpus\u001b[0m \u001b[1;32mimport\u001b[0m \u001b[0mstopwords\u001b[0m\u001b[1;33m\u001b[0m\u001b[1;33m\u001b[0m\u001b[0m\n\u001b[0;32m      2\u001b[0m \u001b[1;32mfrom\u001b[0m \u001b[0mnltk\u001b[0m\u001b[1;33m.\u001b[0m\u001b[0mtokenize\u001b[0m \u001b[1;32mimport\u001b[0m \u001b[0mword_tokenize\u001b[0m\u001b[1;33m\u001b[0m\u001b[1;33m\u001b[0m\u001b[0m\n\u001b[1;32m----> 3\u001b[1;33m \u001b[1;32mfrom\u001b[0m \u001b[0mnltk\u001b[0m\u001b[1;33m.\u001b[0m\u001b[0mcorpus\u001b[0m \u001b[1;32mimport\u001b[0m \u001b[0mpunkt\u001b[0m\u001b[1;33m\u001b[0m\u001b[1;33m\u001b[0m\u001b[0m\n\u001b[0m",
      "\u001b[1;31mImportError\u001b[0m: cannot import name 'punkt' from 'nltk.corpus' (C:\\Users\\sidha\\.conda\\envs\\nlp\\lib\\site-packages\\nltk\\corpus\\__init__.py)"
     ]
    }
   ],
   "source": [
    "from nltk.corpus import stopwords\n",
    "from nltk.tokenize import word_tokenize\n",
    "from nltk.corpus import punkt"
   ]
  },
  {
   "cell_type": "code",
   "execution_count": 3,
   "metadata": {},
   "outputs": [
    {
     "name": "stdout",
     "output_type": "stream",
     "text": [
      "{\"mustn't\", 'than', 'on', 'can', 'that', 'by', 'not', 'ourselves', 'you', \"won't\", 'mustn', 'with', 'o', 'just', 'each', 'is', 'about', 'their', 'couldn', 'these', \"should've\", 'itself', 'needn', 'few', 'didn', \"you're\", 'ma', 'shouldn', 'this', \"don't\", 'out', 'through', 't', 'some', 'a', 'after', 'for', 'there', 's', \"doesn't\", 'when', \"isn't\", \"needn't\", 'are', \"it's\", 'in', 'will', 'did', \"mightn't\", 'should', 'yourself', 'am', 'have', 'be', 'until', 'does', 'theirs', 'both', \"haven't\", 'haven', 'doesn', 'most', 'any', 'its', \"you'd\", 'her', 'how', 'all', 'from', 'what', 'then', 'they', 've', 'aren', 'at', \"couldn't\", 'own', 'same', \"you've\", 'while', \"shouldn't\", 'wouldn', \"weren't\", 'but', 'yourselves', 'off', 'down', 'll', 'don', 'himself', 'doing', 'was', 'no', 'ain', 'of', 'it', 'ours', \"aren't\", 'during', 'against', 'why', 'more', 'now', 'into', 'above', 'had', 'to', \"wasn't\", 'm', 'yours', 'again', 'them', 'being', 'wasn', 'nor', 'if', 'once', 'here', \"hadn't\", 'those', 'she', 'other', 'so', 'our', 'the', 'd', 'mightn', 'myself', 'he', \"wouldn't\", 'has', 'very', 'only', 'themselves', 'having', 'won', \"hasn't\", 'herself', 'me', \"she's\", 'weren', 'over', \"shan't\", 'his', 'y', 'were', 'hadn', 'my', 'between', 'which', 'who', 'and', \"didn't\", 'further', 'hers', 'under', 'isn', 'where', 'do', 'below', 'shan', 'i', 'him', 'whom', 'such', \"you'll\", 're', 'hasn', 'been', 'we', \"that'll\", 'before', 'your', 'up', 'because', 'too', 'an', 'as', 'or'}\n"
     ]
    }
   ],
   "source": [
    "example_sent = \"This is a sample sentence, showing off the stop words filtration.\"\n",
    "stop_words = set(stopwords.words('english'))\n",
    "print(stop_words)\n"
   ]
  },
  {
   "cell_type": "code",
   "execution_count": 4,
   "metadata": {},
   "outputs": [
    {
     "name": "stdout",
     "output_type": "stream",
     "text": [
      "['This', 'sample', 'sentence', ',', 'showing', 'stop', 'words', 'filtration', '.']\n"
     ]
    }
   ],
   "source": [
    "word_tokens = word_tokenize(example_sent)       \n",
    "filtered_sentence = [w for w in word_tokens if not w in stop_words]\n",
    "print(filtered_sentence)\n"
   ]
  },
  {
   "cell_type": "code",
   "execution_count": null,
   "metadata": {},
   "outputs": [],
   "source": []
  }
 ],
 "metadata": {
  "kernelspec": {
   "display_name": "Python 3",
   "language": "python",
   "name": "python3"
  },
  "language_info": {
   "codemirror_mode": {
    "name": "ipython",
    "version": 3
   },
   "file_extension": ".py",
   "mimetype": "text/x-python",
   "name": "python",
   "nbconvert_exporter": "python",
   "pygments_lexer": "ipython3",
   "version": "3.7.5"
  }
 },
 "nbformat": 4,
 "nbformat_minor": 2
}
