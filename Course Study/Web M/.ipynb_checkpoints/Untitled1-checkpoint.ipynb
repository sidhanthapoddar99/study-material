{
 "cells": [
  {
   "cell_type": "markdown",
   "metadata": {},
   "source": [
    "## Name sidhantha poddar\n",
    "### reg 17BCE2044"
   ]
  },
  {
   "cell_type": "code",
   "execution_count": 1,
   "metadata": {},
   "outputs": [],
   "source": [
    "import urllib.request\n",
    "import nltk\n",
    "from bs4 import BeautifulSoup\n",
    "import urllib.request\n",
    "from nltk.corpus import stopwords\n",
    "import html5lib"
   ]
  },
  {
   "cell_type": "markdown",
   "metadata": {},
   "source": [
    "#### IMAGES"
   ]
  },
  {
   "cell_type": "code",
   "execution_count": 2,
   "metadata": {},
   "outputs": [
    {
     "name": "stdout",
     "output_type": "stream",
     "text": [
      "https://vit.ac.in/system/files/vit-ioe-updated-opti.jpg\n",
      " https://vit.ac.in/system/files/PAT-2020-Header-1B.jpg\n",
      " https://vit.ac.in/system/files/VITAA-DAY-2020-3.jpg\n",
      " https://vit.ac.in/system/files/etc-website-banner2a.jpg\n",
      " https://vit.ac.in/system/files/ICNAN-Header-banner2a-op.jpg\n",
      "https://vit.ac.in/system/files/RTDM-2020-opti.jpg\n",
      "https://vit.ac.in/system/files/Advances-Distributed-Computing-Machine-Learning-opti.jpg\n",
      "https://vit.ac.in/system/files/E-Mobility-Development-Green-India.jpg\n",
      "https://vit.ac.in/system/files/MATHEMATICAL-MEET_0.jpg\n",
      "https://vit.ac.in/system/files/VIT-award1-Opti.jpg\n",
      "https://vit.ac.in/system/files/ETC-PRESS-2020-2.jpg\n",
      "https://vit.ac.in/system/files/UHET-Scholar-Ship-press-Thumb-3.jpg\n",
      "https://vit.ac.in/system/files/clean_campus_thum-Opti3.jpg\n",
      "https://vit.ac.in/system/files/styles/infocus_home/private/Tata-Crucible-Campus-Quiz.jpg?itok=bCd0CaLA\n",
      "https://vit.ac.in/system/files/styles/infocus_home/private/whatnext_2A.jpg?itok=u5cLnfdJ\n",
      "https://vit.ac.in/system/files/styles/infocus_home/private/Need-Infocus-1.jpg?itok=TxnDsp1l\n",
      "https://vit.ac.in/system/files/styles/infocus_home/private/VITAA-Muscat-info1A.jpg?itok=GsJ74zFG\n",
      "https://vit.ac.in/system/files/styles/infocus_home/private/best-paper-award-runner-up.jpg?itok=IBYNG9fV\n",
      "https://vit.ac.in/system/files/styles/infocus_home/private/NASA-INTERNATIONAL-SPACE%20APPS.jpg?itok=CQRrwIPR\n",
      "https://vit.ac.in/system/files/styles/infocus_home/private/Hackathon-2019-Thum.jpg?itok=c5FAPuno\n",
      "https://vit.ac.in/system/files/styles/infocus_home/private/Presidential-Award-for-Outstanding-Student-Chapter-2019-opti.jpg?itok=m7T9UI0Q\n"
     ]
    }
   ],
   "source": [
    "response = urllib.request.urlopen('http://www.vit.ac.in/')\n",
    "html = response.read()\n",
    "soup = BeautifulSoup(html,\"html5lib\")\n",
    "# text = soup.get_text(strip=True)\n",
    "img_tag = soup.find_all('img')\n",
    "urls=[img['src'] for img in img_tag]\n",
    "for url in urls:\n",
    "    if 'http' in url:\n",
    "        print(url)"
   ]
  },
  {
   "cell_type": "markdown",
   "metadata": {},
   "source": [
    "#### heading tag"
   ]
  },
  {
   "cell_type": "code",
   "execution_count": 3,
   "metadata": {},
   "outputs": [
    {
     "data": {
      "text/plain": [
       "[<h1> BULLETIN BOARD</h1>,\n",
       " <h2 class=\"EV-title\"><span>UPCOMING EVENTS</span> <a class=\"NE-all\" href=\"https://vit.ac.in/all-events\" target=\"_blank\">View All</a></h2>,\n",
       " <h2 class=\"newstitle\"><span>News</span><a class=\"v_all\" href=\"/all-news\">View All</a></h2>,\n",
       " <h2 class=\"title_1 title_border\"><span>In Focus</span></h2>,\n",
       " <h2>KEEP ME UPDATED</h2>,\n",
       " <h3 class=\"vc-mm-child-title lv-0\">VIT<a class=\"vc-close\" href=\"#\"></a></h3>,\n",
       " <h3 class=\"evn_title\"> \n",
       " \t\t\t\t\t\t\t\t\t\t\tInternational Workshop on...\t\t\t\t\t\t\t\t\t\t\t </h3>,\n",
       " <h3 class=\"evn_title\"> \n",
       " \t\t\t\t\t\t\t\t\t\t\tFirst International Conference on...\t\t\t\t\t\t\t\t\t\t\t </h3>,\n",
       " <h3 class=\"evn_title\"> \n",
       " \t\t\t\t\t\t\t\t\t\t\t3 Day International Workshop on  E...\t\t\t\t\t\t\t\t\t\t\t </h3>,\n",
       " <h3 class=\"evn_title\"> \n",
       " \t\t\t\t\t\t\t\t\t\t\tVIT Mathematical Meet – 2020\t\t\t\t\t\t\t\t\t\t\t </h3>,\n",
       " <h3 class=\"title3\">Ph.D Admission (July 2019) - Results</h3>,\n",
       " <h3 class=\"title3\">Extended date for the payment of fee for Ph.D Admission Vellore Campus - July 2019 Session</h3>,\n",
       " <h3 class=\"title3\">Hostel Room &amp; Mess allotment details</h3>,\n",
       " <h3><a href=\"/ranking\">Ranking and Accreditation</a></h3>,\n",
       " <h3><a href=\"/academics/InternationalRelations\">International Relations</a></h3>,\n",
       " <h3><a href=\"placements/statistics\">Placements</a></h3>,\n",
       " <h3><a href=\"/admission-overview\">Admissions</a></h3>,\n",
       " <h3 class=\"evn_title\"> \n",
       " \t\t\t\t\t\t\t\t\t\t\tAward for Excellence to VIT\t\t\t\t\t\t\t\t\t\t\t </h3>,\n",
       " <h3 class=\"evn_title\"> \n",
       " \t\t\t\t\t\t\t\t\t\t\tETC-2020\t\t\t\t\t\t\t\t\t\t\t </h3>,\n",
       " <h3 class=\"evn_title\"> \n",
       " \t\t\t\t\t\t\t\t\t\t\t2019 UHET Scholarships...\t\t\t\t\t\t\t\t\t\t\t </h3>,\n",
       " <h3 class=\"evn_title\"> \n",
       " \t\t\t\t\t\t\t\t\t\t\tSwachh Campus Rankings 2019...\t\t\t\t\t\t\t\t\t\t\t </h3>,\n",
       " <h3 class=\"txt_title\">Photo Gallery</h3>,\n",
       " <h3>Photo Gallery</h3>,\n",
       " <h3 class=\"txt_title\">Campus Tour</h3>,\n",
       " <h3>Campus Tour</h3>,\n",
       " <h3 class=\"txt_title\">Video Gallery</h3>,\n",
       " <h3>Video Gallery</h3>,\n",
       " <h3 class=\"txt_title\">Hostel</h3>,\n",
       " <h3>Hostel</h3>,\n",
       " <h3 class=\"txt_title\">Guest House</h3>,\n",
       " <h3>Guest House</h3>,\n",
       " <h3>PARENTS</h3>,\n",
       " <h3>VITIANS</h3>,\n",
       " <h3>VISITORS</h3>,\n",
       " <h3>Contact Us</h3>,\n",
       " <h5><strong><font color=\"red\">Beware of VITEEE fake websites</font> </strong></h5>,\n",
       " <h5><strong><font color=\"red\">UG Admissions - 2019</font> </strong></h5>,\n",
       " <h5><strong><font color=\"red\">Campuswise Class Commencement</font> </strong></h5>,\n",
       " <h5><strong><font color=\"red\">Interview for Post Doctor Fellowship</font> </strong></h5>,\n",
       " <h5><strong><font color=\"red\">Hostel Admissions 2019</font> </strong></h5>]"
      ]
     },
     "execution_count": 3,
     "metadata": {},
     "output_type": "execute_result"
    }
   ],
   "source": [
    "import urllib.request\n",
    "import nltk\n",
    "from bs4 import BeautifulSoup\n",
    "import urllib.request\n",
    "from nltk.corpus import stopwords\n",
    "response = urllib.request.urlopen('http://www.vit.ac.in/')\n",
    "html = response.read()\n",
    "soup = BeautifulSoup(html,\"html5lib\")\n",
    "# text = soup.get_text(strip=True)\n",
    "head_tag = soup.find_all('h1')\n",
    "head_tag += soup.find_all('h2')\n",
    "head_tag += soup.find_all('h3')\n",
    "head_tag += soup.find_all('h4')\n",
    "head_tag += soup.find_all('h5')\n",
    "head_tag += soup.find_all('h6')\n",
    "head_tag"
   ]
  },
  {
   "cell_type": "markdown",
   "metadata": {},
   "source": [
    "#### title tag"
   ]
  },
  {
   "cell_type": "code",
   "execution_count": 4,
   "metadata": {},
   "outputs": [
    {
     "data": {
      "text/plain": [
       "[<title>VIT | No.1 Private Institution for Innovation</title>]"
      ]
     },
     "execution_count": 4,
     "metadata": {},
     "output_type": "execute_result"
    }
   ],
   "source": [
    "response = urllib.request.urlopen('http://www.vit.ac.in/')\n",
    "html = response.read()\n",
    "soup = BeautifulSoup(html,\"html5lib\")\n",
    "# text = soup.get_text(strip=True)\n",
    "title_tag = soup.find_all('title')\n",
    "title_tag"
   ]
  },
  {
   "cell_type": "markdown",
   "metadata": {},
   "source": [
    "#### H1"
   ]
  },
  {
   "cell_type": "code",
   "execution_count": 5,
   "metadata": {},
   "outputs": [
    {
     "name": "stdout",
     "output_type": "stream",
     "text": [
      " BULLETIN BOARD\n"
     ]
    },
    {
     "data": {
      "text/plain": [
       "15"
      ]
     },
     "execution_count": 5,
     "metadata": {},
     "output_type": "execute_result"
    }
   ],
   "source": [
    "response = urllib.request.urlopen('http://www.vit.ac.in/')\n",
    "html = response.read()\n",
    "soup = BeautifulSoup(html,\"html5lib\")\n",
    "# text = soup.get_text(strip=True)\n",
    "head_tag = soup.find('h1')\n",
    "print(head_tag.text)\n",
    "len(head_tag.text)"
   ]
  },
  {
   "cell_type": "markdown",
   "metadata": {},
   "source": [
    "#### Href"
   ]
  },
  {
   "cell_type": "code",
   "execution_count": 6,
   "metadata": {},
   "outputs": [
    {
     "name": "stdout",
     "output_type": "stream",
     "text": [
      "https://vit.ac.in\n",
      "https://vit.ac.in/about-vit\n",
      "https://vit.ac.in/about-vit\n",
      "https://vit.ac.in/about/vision-mission\n",
      "https://vit.ac.in/about/leadership\n",
      "https://vit.ac.in/about/administrative-offices\n",
      "https://vit.ac.in/about/Sustainability\n",
      "https://vit.ac.in/about/true-green\n",
      "https://vit.ac.in/about/community-outreach\n",
      "https://vit.ac.in/about/communityradio\n",
      "https://vit.ac.in/about/infrastructure\n",
      "https://vit.ac.in/about/ranking-and-accreditation\n",
      "https://vit.ac.in/all-news-archieved\n",
      "https://vit.ac.in/all-events\n",
      "https://vit.ac.in/national-institutional-ranking-framework-nirf\n",
      "https://vit.ac.in/about/mhrdugc\n",
      "http://careers.vit.ac.in/\n",
      "https://vit.ac.in/about/news-letter\n",
      "https://vit.ac.in/about-vit\n",
      "https://vit.ac.in/about/vision-mission\n",
      "https://vit.ac.in/about/leadership\n",
      "https://vit.ac.in/about/administrative-offices\n",
      "https://vit.ac.in/about/Sustainability\n",
      "https://vit.ac.in/about/true-green\n",
      "https://vit.ac.in/about/community-outreach\n",
      "https://vit.ac.in/about/communityradio\n",
      "https://vit.ac.in/about/infrastructure\n",
      "https://vit.ac.in/about/ranking-and-accreditation\n",
      "https://vit.ac.in/all-news-archieved\n",
      "https://vit.ac.in/all-events\n",
      "https://vit.ac.in/national-institutional-ranking-framework-nirf\n",
      "https://vit.ac.in/about/mhrdugc\n",
      "http://careers.vit.ac.in/\n",
      "https://vit.ac.in/about/news-letter\n",
      "https://vit.ac.in/academics/home\n",
      "https://vit.ac.in/academics/home\n",
      "https://vit.ac.in/academics/ffcs\n",
      "https://vit.ac.in/academics/coe\n",
      "https://vit.ac.in/academics/transcripts\n",
      "https://vit.ac.in/schools\n",
      "https://vit.ac.in/academics/library\n",
      "https://vit.ac.in/academics/centers\n",
      "https://vit.ac.in/academics/iqac\n",
      "https://vit.ac.in/academics/home\n",
      "https://vit.ac.in/academics/ffcs\n",
      "https://vit.ac.in/academics/coe\n",
      "https://vit.ac.in/academics/transcripts\n",
      "https://vit.ac.in/schools\n",
      "https://vit.ac.in/academics/library\n",
      "https://vit.ac.in/academics/centers\n",
      "https://vit.ac.in/academics/iqac\n",
      "https://vit.ac.in/admissions/overview\n",
      "https://vit.ac.in/admissions/overview\n",
      "https://vit.ac.in/admissions/programmes-offered\n",
      "https://vit.ac.in/all-courses/ug\n",
      "https://vit.ac.in/all-courses/pg\n",
      "https://vit.ac.in/admissions/research\n",
      "https://vit.ac.in/admissions/international\n",
      "https://vit.ac.in/viteee\n",
      "https://vit.ac.in/admissions/overview\n",
      "https://vit.ac.in/admissions/programmes-offered\n",
      "https://vit.ac.in/all-courses/ug\n",
      "https://vit.ac.in/all-courses/pg\n",
      "https://vit.ac.in/admissions/research\n",
      "https://vit.ac.in/admissions/international\n",
      "https://vit.ac.in/viteee\n",
      "https://vit.ac.in/placements/overview\n",
      "https://vit.ac.in/placements/overview\n",
      "https://vit.ac.in/placements/Superdreamoffers\n",
      "https://vit.ac.in/placements/dreamoffers\n",
      "https://vit.ac.in/placements/internship\n",
      "https://vit.ac.in/placements/statistics\n",
      "https://vit.ac.in/placements/placement-records\n",
      "https://vit.ac.in/placements/PAT-Office\n",
      "https://vit.ac.in/placements/overview\n",
      "https://vit.ac.in/placements/Superdreamoffers\n",
      "https://vit.ac.in/placements/dreamoffers\n",
      "https://vit.ac.in/placements/internship\n",
      "https://vit.ac.in/placements/statistics\n",
      "https://vit.ac.in/placements/placement-records\n",
      "https://vit.ac.in/placements/PAT-Office\n",
      "https://vit.ac.in/InternationalRelations\n",
      "https://vit.ac.in/InternationalRelations\n",
      "https://vit.ac.in/internationalrelations/itp\n",
      "https://vit.ac.in/internationalrelations/partneruniversities\n",
      "https://vit.ac.in/internationalrelations/SAP\n",
      "https://vit.ac.in/admissions/international/overview\n",
      "https://vit.ac.in/InternationalRelations\n",
      "https://vit.ac.in/internationalrelations/itp\n",
      "https://vit.ac.in/internationalrelations/partneruniversities\n",
      "https://vit.ac.in/internationalrelations/SAP\n",
      "https://vit.ac.in/admissions/international/overview\n",
      "https://vit.ac.in/research\n",
      "https://vit.ac.in/research\n",
      "https://vit.ac.in/research/academic\n",
      "https://vit.ac.in/research/centers-list\n",
      "https://vit.ac.in/research/sponsored-research\n",
      "https://vit.ac.in/research\n",
      "https://vit.ac.in/research/academic\n",
      "https://vit.ac.in/research/centers-list\n",
      "https://vit.ac.in/research/sponsored-research\n",
      "https://vit.ac.in/campuslife/overview\n",
      "https://vit.ac.in/campuslife/overview\n",
      "https://vit.ac.in/campuslife/fests\n",
      "https://vit.ac.in/campuslife/studentswelfare\n",
      "https://vit.ac.in/academics/library\n",
      "https://vit.ac.in/campuslife/Sports\n",
      "https://vit.ac.in/campuslife/hostels\n",
      "https://vit.ac.in/campuslife/startups\n",
      "https://vit.ac.in/campuslife/healthservices\n",
      "https://vit.ac.in/campuslife/hostelsfee\n",
      "https://vit.ac.in/campuslife/otheramenities\n",
      "https://vit.ac.in/campuslife/overview\n",
      "https://vit.ac.in/campuslife/fests\n",
      "https://vit.ac.in/campuslife/studentswelfare\n",
      "https://vit.ac.in/academics/library\n",
      "https://vit.ac.in/campuslife/Sports\n",
      "https://vit.ac.in/campuslife/hostels\n",
      "https://vit.ac.in/campuslife/startups\n",
      "https://vit.ac.in/campuslife/healthservices\n",
      "https://vit.ac.in/campuslife/hostelsfee\n",
      "https://vit.ac.in/campuslife/otheramenities\n",
      "http://chennai.vit.ac.in\n",
      "https://vitap.ac.in/\n",
      "https://vitbhopal.ac.in/\n",
      "http://intranet.vit.ac.in\n",
      "https://mail.google.com/\n",
      "https://vtop.vit.ac.in/vtop/initialProcess\n",
      "https://vit.ac.in/sites/default/files/SBST_Freshers_App.rar\n",
      "https://vit.ac.in/anti-ragging-committee\n",
      "https://vit.ac.in/capability-enhancement-scheme\n",
      "https://vit.ac.in/sites/default/files/FormatGuidelines.doc\n",
      "https://vit.ac.in/internal-complaints-committee\n",
      "http://intranet.vit.ac.in\n",
      "https://mail.google.com/\n",
      "https://vtop.vit.ac.in/vtop/initialProcess\n",
      "https://vit.ac.in/sites/default/files/SBST_Freshers_App.rar\n",
      "https://vit.ac.in/anti-ragging-committee\n",
      "https://vit.ac.in/capability-enhancement-scheme\n",
      "https://vit.ac.in/sites/default/files/FormatGuidelines.doc\n",
      "https://vit.ac.in/internal-complaints-committee\n",
      "https://vit.ac.in/hotels-in-vellore\n",
      "https://vit.ac.in/guest-house\n",
      "https://vtop.vit.ac.in/vtop/initialProcess\n",
      "https://vit.ac.in/admissions/programmes-offered\n",
      "https://vit.ac.in/internal-complaints-committee\n",
      "https://vit.ac.in/redressal\n",
      "https://vit.ac.in/hotels-in-vellore\n",
      "https://vit.ac.in/guest-house\n",
      "https://vtop.vit.ac.in/vtop/initialProcess\n",
      "https://vit.ac.in/admissions/programmes-offered\n",
      "https://vit.ac.in/internal-complaints-committee\n",
      "https://vit.ac.in/redressal\n",
      "http://info.vit.ac.in/Alumni_List/index.html\n",
      "https://vit.ac.in/academics/transcripts\n",
      "https://vit.ac.in/instruction\n",
      "http://www.vitaa.org/\n",
      "http://info.vit.ac.in/Alumni_List/index.html\n",
      "https://vit.ac.in/academics/transcripts\n",
      "https://vit.ac.in/instruction\n",
      "http://www.vitaa.org/\n",
      "https://campustour.vit.ac.in/\n",
      "https://vit.ac.in/detailview/green-vit\n",
      "http://info.vit.ac.in/phd_dec2019_results/index.asp\n",
      "https://vit.ac.in/detailview/vit-wishes-warm-%E2%80%98happy-birthday%E2%80%99-our-honourable-chancellor\n",
      "http://info.vit.ac.in/B.Tech_group_photo/default.htm\n",
      "http://info.vit.ac.in/final_year_photo/default.htm\n",
      "http://info.vit.ac.in/finayear_photos_day3/default.htm\n",
      "https://www.vidyalakshmi.co.in/Students/\n",
      "http://info.vit.ac.in/CDAC/html/index3.html\n",
      "http://info.vit.ac.in/2019-M.Tech-Group-Photos/default.htm\n",
      "https://vtop11.vit.ac.in/vtop/initialProcess\n",
      "https://vit.ac.in/hotels-in-vellore\n",
      "https://vit.ac.in/guest-house\n",
      "https://vtop.vit.ac.in/vtop/initialProcess\n",
      "https://vit.ac.in/admissions/programmes-offered\n",
      "https://vit.ac.in/anti-ragging-committee\n",
      "https://vit.ac.in/vit-institution-eminence-ioe\n",
      "https://webmail.vit.ac.in/\n",
      "https://peopleorbit.vit.ac.in/\n",
      "https://vtop.vit.ac.in/vtop/initialProcess\n",
      "http://intranet.vit.ac.in\n",
      "https://accounts.google.com/AddSession?continue=https%3A%2F%2Fmail.google.com%2Fmail%2F&service=mail&hd=vit.ac.in&sacu=1\n",
      "https://vit.ac.in/iprcell\n",
      "https://vit.ac.in/sites/default/files/footer_menu_doc/FormatGuidelines%20%283%29.doc\n",
      "https://vit.ac.in/internal-complaints-committee\n",
      "https://vit.ac.in/campus-category/Grievance Cell\n",
      "https://vit.ac.in/academics/iqac\n",
      "http://www.mhrdnats.gov.in/\n",
      "http://careers.vit.ac.in/\n",
      "https://vitap.ac.in/careers/\n",
      "http://www.vitaa.org\n",
      "https://campustour.vit.ac.in/\n",
      "https://vit.ac.in/contactus\n"
     ]
    }
   ],
   "source": [
    "response = urllib.request.urlopen('http://www.vit.ac.in/')\n",
    "html = response.read()\n",
    "soup = BeautifulSoup(html,\"html5lib\")\n",
    "url_tag = [[i.get('href') for i in b.find_all('a')] for b in soup.find_all('li')]\n",
    "for r in url_tag:\n",
    "    for re in r:\n",
    "        if 'http' in re:\n",
    "            print(re)"
   ]
  },
  {
   "cell_type": "code",
   "execution_count": null,
   "metadata": {},
   "outputs": [],
   "source": []
  }
 ],
 "metadata": {
  "kernelspec": {
   "display_name": "Python 3",
   "language": "python",
   "name": "python3"
  },
  "language_info": {
   "codemirror_mode": {
    "name": "ipython",
    "version": 3
   },
   "file_extension": ".py",
   "mimetype": "text/x-python",
   "name": "python",
   "nbconvert_exporter": "python",
   "pygments_lexer": "ipython3",
   "version": "3.7.5"
  }
 },
 "nbformat": 4,
 "nbformat_minor": 2
}
