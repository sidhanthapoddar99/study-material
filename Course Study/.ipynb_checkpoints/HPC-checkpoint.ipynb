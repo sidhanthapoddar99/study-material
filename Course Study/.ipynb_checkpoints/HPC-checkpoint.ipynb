{
 "cells": [
  {
   "cell_type": "code",
   "execution_count": 1,
   "metadata": {},
   "outputs": [],
   "source": [
    "import pandas as pd\n",
    "import numpy as np\n",
    "import statistics as sta"
   ]
  },
  {
   "cell_type": "code",
   "execution_count": 2,
   "metadata": {},
   "outputs": [
    {
     "name": "stderr",
     "output_type": "stream",
     "text": [
      "Using TensorFlow backend.\n"
     ]
    }
   ],
   "source": [
    "from keras.models import Sequential\n",
    "from keras.layers import Dense\n",
    "from keras.utils import to_categorical"
   ]
  },
  {
   "cell_type": "code",
   "execution_count": 3,
   "metadata": {},
   "outputs": [],
   "source": [
    "import tensorflow as tf"
   ]
  },
  {
   "cell_type": "code",
   "execution_count": null,
   "metadata": {},
   "outputs": [],
   "source": [
    "sess = tf.Session(config=tf.ConfigProto(log_device_placement=True))"
   ]
  },
  {
   "cell_type": "code",
   "execution_count": null,
   "metadata": {},
   "outputs": [],
   "source": [
    "p=pd.read_csv(\"a.csv\",header=None)"
   ]
  },
  {
   "cell_type": "code",
   "execution_count": null,
   "metadata": {},
   "outputs": [],
   "source": [
    "p.drop_duplicates(keep='first',inplace=True) \n"
   ]
  },
  {
   "cell_type": "code",
   "execution_count": null,
   "metadata": {},
   "outputs": [],
   "source": [
    "p"
   ]
  },
  {
   "cell_type": "code",
   "execution_count": null,
   "metadata": {},
   "outputs": [],
   "source": [
    "data=np.array(p.iloc[:,:5])\n",
    "pred=np.array(p.iloc[:,5])"
   ]
  },
  {
   "cell_type": "code",
   "execution_count": null,
   "metadata": {},
   "outputs": [],
   "source": [
    "pred.shape"
   ]
  },
  {
   "cell_type": "code",
   "execution_count": null,
   "metadata": {},
   "outputs": [],
   "source": [
    "data.shape"
   ]
  },
  {
   "cell_type": "code",
   "execution_count": null,
   "metadata": {},
   "outputs": [],
   "source": [
    "def smin(arr1):\n",
    "    x=max(arr1)\n",
    "    for i in arr1:\n",
    "        if i<x and i!=0:\n",
    "            x=i\n",
    "    return x        "
   ]
  },
  {
   "cell_type": "code",
   "execution_count": null,
   "metadata": {},
   "outputs": [],
   "source": [
    "arr=[]\n",
    "for i in range(0,1617664):\n",
    "    val=list(data[i])\n",
    "    flag=0\n",
    "    for j in range(5):\n",
    "        if(val[j]==pred[i]):\n",
    "            arr+=[j]\n",
    "            flag=1\n",
    "            break\n",
    "    if flag==0:\n",
    "        x=smin(val)\n",
    "        for j in range(5):\n",
    "            if(val[j]==x):\n",
    "                arr+=[j]\n",
    "                break\n",
    "        #print(val,\" : \", pred[i])\n",
    "        \n",
    "#arr    "
   ]
  },
  {
   "cell_type": "code",
   "execution_count": null,
   "metadata": {
    "scrolled": true
   },
   "outputs": [],
   "source": [
    "len(arr)"
   ]
  },
  {
   "cell_type": "code",
   "execution_count": null,
   "metadata": {},
   "outputs": [],
   "source": [
    "data.shape"
   ]
  },
  {
   "cell_type": "code",
   "execution_count": null,
   "metadata": {},
   "outputs": [],
   "source": [
    "arr2=to_categorical(arr)"
   ]
  },
  {
   "cell_type": "code",
   "execution_count": null,
   "metadata": {},
   "outputs": [],
   "source": [
    "arr2.shape"
   ]
  },
  {
   "cell_type": "code",
   "execution_count": null,
   "metadata": {},
   "outputs": [],
   "source": [
    "model = Sequential()\n",
    "model.add(Dense(500, activation='relu', input_shape = (5,)))#rows,column\n",
    "#model.add(Dense(2000, activation='relu'))\n",
    "#model.add(Dense(1000, activation='relu'))\n",
    "#model.add(Dense(750, activation='relu'))#number of tensors in each node\n",
    "model.add(Dense(250, activation='relu'))\n",
    "model.add(Dense(100, activation='relu'))\n",
    "model.add(Dense(5, activation='softmax'))"
   ]
  },
  {
   "cell_type": "code",
   "execution_count": null,
   "metadata": {},
   "outputs": [],
   "source": [
    "model.compile(optimizer='adam', loss='categorical_crossentropy', metrics=['accuracy'])"
   ]
  },
  {
   "cell_type": "code",
   "execution_count": null,
   "metadata": {},
   "outputs": [],
   "source": [
    "model.fit(data,arr2,validation_split=0.05,epochs=100,batch_size=512,validation_freq=[i for i in range(0,100,5)])"
   ]
  },
  {
   "cell_type": "code",
   "execution_count": null,
   "metadata": {},
   "outputs": [],
   "source": [
    "import math\n",
    "\n",
    "def TDRR(bt,at,q):\n",
    "            \n",
    "    def addtoP(p1,at,bt,n,t):\n",
    "        c=0\n",
    "        for i in range(n,len(bt)):\n",
    "            if(at[i]>t):\n",
    "                return c\n",
    "            else:\n",
    "                p1+=[bt[i]]\n",
    "                c+=1\n",
    "        return c       \n",
    "\n",
    "\n",
    "    noep=0\n",
    "    nofp=0\n",
    "    #at=[0]*5\n",
    "    #bt=[15, 5, 25,12,30]\n",
    "    t=0\n",
    "    #q=10\n",
    "    wt=0\n",
    "    sbt=sum(bt)\n",
    "    p1=[]\n",
    "    tot=1\n",
    "    noep+=addtoP(p1,at,bt,noep,tot)\n",
    "    p1.sort()\n",
    "    #q=p1[nofp]\n",
    "    q=sum(bt)/len(bt)\n",
    "    q=q*3/4\n",
    "    q=int(math.floor(q))\n",
    "    #print(q)\n",
    "    while(noep<len(bt) or t<sbt):\n",
    "    \n",
    "        i=0\n",
    "        noep+=addtoP(p1,at,bt,noep,tot)\n",
    "        #p1.sort()\n",
    "        \"\"\"q=sum(p1)/(noep-nofp)\n",
    "        q=q*3/4\n",
    "        q=int(math.ceil(q))\"\"\"\n",
    "        \n",
    "        #print(q)\n",
    "        #print(p1)\n",
    "        #print(noep)\n",
    "        entered=False\n",
    "        while i<noep:\n",
    "            #print(\"ent\")\n",
    "            #print(p1)\n",
    "            #print(wt)\n",
    "            if(p1[i]!=0):\n",
    "                #print(p1) \n",
    "                #print(\"ent2\")\n",
    "                entered=True\n",
    "                if(p1[i]>=q):\n",
    "                    for j in range(q):\n",
    "                        t+=1\n",
    "                        tot+=1\n",
    "                        #noep+=addtoP(p1,at,bt,noep,t)\n",
    "                        wt+=(noep-nofp-1)\n",
    "                        #print(\"values\",noep,\" \",nofp)\n",
    "                        p1[i]-=1\n",
    "                        noep+=addtoP(p1,at,bt,noep,t)\n",
    "                        \n",
    "                if(p1[i]==0):\n",
    "                    nofp+=1\n",
    "                    \n",
    "                if (p1[i]<q and p1[i]!=0):\n",
    "                    for j in range(p1[i]):\n",
    "                        t+=1\n",
    "                        tot+=1\n",
    "                        #noep+=addtoP(p1,at,bt,noep,t)\n",
    "                        wt+=(noep-nofp-1)\n",
    "                        #print(\"values\",noep,\" \",nofp)\n",
    "                        p1[i]-=1\n",
    "                        noep+=addtoP(p1,at,bt,noep,t)\n",
    "                    nofp+=1    \n",
    "\n",
    "            i+=1\n",
    "\n",
    "        if(not entered):\n",
    "            tot+=1\n",
    "    print(wt/len(bt))"
   ]
  },
  {
   "cell_type": "code",
   "execution_count": null,
   "metadata": {
    "scrolled": true
   },
   "outputs": [],
   "source": [
    "import socket                \n",
    "  \n",
    "# next create a socket object \n",
    "s = socket.socket()          \n",
    "print (\"Socket successfully created\")\n",
    "# reserve a port on your computer in our \n",
    "# case it is 12345 but it can be anything \n",
    "port = 12345                \n",
    "# Next bind to the port \n",
    "# we have not typed any ip in the ip field \n",
    "# instead we have inputted an empty string \n",
    "# this makes the server listen to requests  \n",
    "# coming from other computers on the network \n",
    "#s.bind(('192.168.43.193', port))\n",
    "s.bind(('', port))\n",
    "print (\"socket binded to %s\" %(port)) \n",
    "# put the socket into listening mode \n",
    "s.listen(5)      \n",
    "print (\"socket is listening\")            \n",
    "# a forever loop until we interrupt it or  \n",
    "# an error occurs \n",
    "while True: \n",
    "  # Establish connection with client. \n",
    "    c, addr = s.accept()      \n",
    "    print ('Got connection from', addr) \n",
    "   # send a thank you message to the client. \n",
    "    print(\"enter the array to be sent\")\n",
    "    arr=list(map(int,input().split(' ')))\n",
    "    st=\" \".join(list(map(str,arr)))\n",
    "    c.send(st.encode('utf-8')) \n",
    "  # Close the connection with the client \n",
    "    c.close() \n"
   ]
  },
  {
   "cell_type": "code",
   "execution_count": null,
   "metadata": {},
   "outputs": [],
   "source": [
    "import socket                \n",
    "  \n",
    "# next create a socket object \n",
    "s = socket.socket()          \n",
    "print (\"Socket successfully created\")\n",
    "# reserve a port on your computer in our \n",
    "# case it is 12345 but it can be anything \n",
    "port = 12345                \n",
    "# Next bind to the port \n",
    "# we have not typed any ip in the ip field \n",
    "# instead we have inputted an empty string \n",
    "# this makes the server listen to requests  \n",
    "# coming from other computers on the network \n",
    "#s.bind(('192.168.43.193', port))\n",
    "s.bind(('', port))\n",
    "print (\"socket binded to %s\" %(port)) \n",
    "# put the socket into listening mode \n",
    "s.listen(5)      \n",
    "print (\"socket is listening\")            \n",
    "# a forever loop until we interrupt it or  \n",
    "# an error occurs \n",
    "while True: \n",
    "  # Establish connection with client. \n",
    "    c, addr = s.accept()      \n",
    "    print ('Got connection from', addr) \n",
    "   # send a thank you message to the client.  \n",
    "    c.send('Thank you for connecting'.encode('utf-8')) \n",
    "  # Close the connection with the client \n",
    "    c.close() \n"
   ]
  },
  {
   "cell_type": "code",
   "execution_count": null,
   "metadata": {},
   "outputs": [],
   "source": [
    "import socket                \n",
    "  \n",
    "# Create a socket object \n",
    "        \n",
    "# Define the port on which you want to connect \n",
    "port = 12345                \n",
    "  \n",
    "# connect to the server on local computer \n",
    "\n",
    "  \n",
    "# receive data from the server \n",
    "while True:\n",
    "    s = socket.socket()  \n",
    "    s.connect(('192.168.43.21', port)) \n",
    "    st= s.recv(1024).decode(\"utf-8\")\n",
    "    print(\"encrypted text -->\",st)\n",
    "    s.close()   "
   ]
  }
 ],
 "metadata": {
  "kernelspec": {
   "display_name": "Python 3",
   "language": "python",
   "name": "python3"
  },
  "language_info": {
   "codemirror_mode": {
    "name": "ipython",
    "version": 3
   },
   "file_extension": ".py",
   "mimetype": "text/x-python",
   "name": "python",
   "nbconvert_exporter": "python",
   "pygments_lexer": "ipython3",
   "version": "3.7.4"
  },
  "toc": {
   "base_numbering": 1,
   "nav_menu": {},
   "number_sections": true,
   "sideBar": true,
   "skip_h1_title": false,
   "title_cell": "Table of Contents",
   "title_sidebar": "Contents",
   "toc_cell": false,
   "toc_position": {},
   "toc_section_display": true,
   "toc_window_display": false
  },
  "varInspector": {
   "cols": {
    "lenName": 16,
    "lenType": 16,
    "lenVar": 40
   },
   "kernels_config": {
    "python": {
     "delete_cmd_postfix": "",
     "delete_cmd_prefix": "del ",
     "library": "var_list.py",
     "varRefreshCmd": "print(var_dic_list())"
    },
    "r": {
     "delete_cmd_postfix": ") ",
     "delete_cmd_prefix": "rm(",
     "library": "var_list.r",
     "varRefreshCmd": "cat(var_dic_list()) "
    }
   },
   "types_to_exclude": [
    "module",
    "function",
    "builtin_function_or_method",
    "instance",
    "_Feature"
   ],
   "window_display": false
  }
 },
 "nbformat": 4,
 "nbformat_minor": 2
}
