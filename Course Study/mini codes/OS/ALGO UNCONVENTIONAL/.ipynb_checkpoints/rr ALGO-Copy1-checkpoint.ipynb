{
 "cells": [
  {
   "cell_type": "code",
   "execution_count": 5,
   "metadata": {
    "ExecuteTime": {
     "end_time": "2019-10-17T06:40:35.327651Z",
     "start_time": "2019-10-17T06:40:35.319673Z"
    }
   },
   "outputs": [
    {
     "ename": "IndentationError",
     "evalue": "unindent does not match any outer indentation level (<tokenize>, line 72)",
     "output_type": "error",
     "traceback": [
      "\u001b[1;36m  File \u001b[1;32m\"<tokenize>\"\u001b[1;36m, line \u001b[1;32m72\u001b[0m\n\u001b[1;33m    n=len(burst_time)\u001b[0m\n\u001b[1;37m    ^\u001b[0m\n\u001b[1;31mIndentationError\u001b[0m\u001b[1;31m:\u001b[0m unindent does not match any outer indentation level\n"
     ]
    }
   ],
   "source": [
    "\t#\n",
    "    #"
   ]
  },
  {
   "cell_type": "markdown",
   "metadata": {},
   "source": [
    "# RR without AT"
   ]
  },
  {
   "cell_type": "code",
   "execution_count": 11,
   "metadata": {
    "ExecuteTime": {
     "end_time": "2019-10-17T06:49:00.375702Z",
     "start_time": "2019-10-17T06:49:00.361739Z"
    },
    "code_folding": [
     2
    ]
   },
   "outputs": [
    {
     "name": "stdout",
     "output_type": "stream",
     "text": [
      "Processes Burst Time     Waiting Time Turn-Around Time\n",
      "  1 \t\t 15 \t\t 35 \t\t 50\n",
      "  2 \t\t 5 \t\t 10 \t\t 15\n",
      "  3 \t\t 25 \t\t 52 \t\t 77\n",
      "  4 \t\t 12 \t\t 50 \t\t 62\n",
      "  5 \t\t 30 \t\t 57 \t\t 87\n",
      "\n",
      "Average waiting time = 40.80000 \n",
      "Average turn around time = 58.20000 \n"
     ]
    }
   ],
   "source": [
    "\n",
    "\n",
    "def findWaitingTime(processes, n, bt,wt, quantum): \n",
    "    rem_bt = [0] * n \n",
    "\n",
    "    # Copy the burst time into rt[] \n",
    "    for i in range(n): \n",
    "        rem_bt[i] = bt[i] \n",
    "    t = 0 # Current time \n",
    "    while(1): \n",
    "        done = True\n",
    "        for i in range(n): \n",
    "            if (rem_bt[i] > 0) : \n",
    "                done = False # There is a pending process \n",
    "                if (rem_bt[i] > quantum) : \n",
    "                    t += quantum \n",
    "                    rem_bt[i] -= quantum \n",
    "\n",
    "                else: \n",
    "                    t = t + rem_bt[i] \n",
    "                    wt[i] = t - bt[i] \n",
    "                    rem_bt[i] = 0\n",
    "                \n",
    "        # If all processes are done \n",
    "        if (done == True): \n",
    "            break\n",
    "            \n",
    "# Function to calculate turn around time \n",
    "def findTurnAroundTime(processes, n, bt, wt, tat): \n",
    "    \n",
    "    # Calculating turnaround time \n",
    "    for i in range(n): \n",
    "        tat[i] = bt[i] + wt[i] \n",
    "\n",
    "\n",
    "# Function to calculate average waiting \n",
    "# and turn-around times. \n",
    "def findavgTime(processes, n, bt, quantum): \n",
    "    wt = [0] * n \n",
    "    tat = [0] * n \n",
    "\n",
    "    # Function to find waiting time \n",
    "    # of all processes \n",
    "    findWaitingTime(processes, n, bt, \n",
    "                        wt, quantum) \n",
    "\n",
    "    # Function to find turn around time \n",
    "    # for all processes \n",
    "    findTurnAroundTime(processes, n, bt, \n",
    "                                wt, tat) \n",
    "\n",
    "    # Display processes along with all details \n",
    "    print(\"Processes Burst Time     Waiting\", \n",
    "                    \"Time Turn-Around Time\") \n",
    "    total_wt = 0\n",
    "    total_tat = 0\n",
    "    for i in range(n): \n",
    "\n",
    "        total_wt = total_wt + wt[i] \n",
    "        total_tat = total_tat + tat[i] \n",
    "        print(\" \", i + 1, \"\\t\\t\", bt[i], \n",
    "            \"\\t\\t\", wt[i], \"\\t\\t\", tat[i]) \n",
    "\n",
    "    print(\"\\nAverage waiting time = %.5f \"%(total_wt /n) ) \n",
    "    print(\"Average turn around time = %.5f \"% (total_tat / n)) \n",
    "    \n",
    "# Driver code \n",
    "if __name__ ==\"__main__\": \n",
    "\n",
    "\n",
    "    # Burst \n",
    "    burst_time = [15, 5, 25,12,30] \n",
    "    n=len(burst_time)\n",
    "    proc=[i+1 for i in range(n)]\n",
    "    quantum = 10; \n",
    "    findavgTime(proc, n, burst_time, quantum) \n",
    "\n",
    "    "
   ]
  },
  {
   "cell_type": "markdown",
   "metadata": {
    "code_folding": []
   },
   "source": [
    "# IRR without AT"
   ]
  },
  {
   "cell_type": "code",
   "execution_count": 16,
   "metadata": {
    "ExecuteTime": {
     "end_time": "2019-10-17T06:53:17.586291Z",
     "start_time": "2019-10-17T06:53:17.572340Z"
    }
   },
   "outputs": [
    {
     "name": "stdout",
     "output_type": "stream",
     "text": [
      "Processes Burst Time     Waiting Time Turn-Around Time\n",
      "  1 \t\t 15 \t\t 0 \t\t 15\n",
      "  2 \t\t 5 \t\t 15 \t\t 20\n",
      "  3 \t\t 25 \t\t 42 \t\t 67\n",
      "  4 \t\t 12 \t\t 30 \t\t 42\n",
      "  5 \t\t 30 \t\t 57 \t\t 87\n",
      "\n",
      "Average waiting time = 28.80000 \n",
      "Average turn around time = 46.20000 \n"
     ]
    }
   ],
   "source": [
    "\n",
    "\n",
    "def findWaitingTime(processes, n, bt,wt, quantum): \n",
    "    rem_bt = [0] * n \n",
    "\n",
    "    # Copy the burst time into rt[] \n",
    "    for i in range(n): \n",
    "        rem_bt[i] = bt[i] \n",
    "    t = 0 # Current time \n",
    "    while(1): \n",
    "        done = True\n",
    "        for i in range(n): \n",
    "            if (rem_bt[i] >0) : \n",
    "                done = False # There is a pending process \n",
    "                if (rem_bt[i] >= quantum) : \n",
    "                    t += quantum \n",
    "                    rem_bt[i] -= quantum\n",
    "                    if (rem_bt[i] <= quantum) : \n",
    "                        t = t + rem_bt[i] \n",
    "                        wt[i] = t - bt[i] \n",
    "                        rem_bt[i] = 0\n",
    "                else: \n",
    "                    t = t + rem_bt[i] \n",
    "                    wt[i] = t - bt[i] \n",
    "                    rem_bt[i] = 0       \n",
    "\n",
    "        # If all processes are done \n",
    "        if (done == True): \n",
    "            break\n",
    "            \n",
    "# Function to calculate turn around time \n",
    "def findTurnAroundTime(processes, n, bt, wt, tat): \n",
    "    \n",
    "    # Calculating turnaround time \n",
    "    for i in range(n): \n",
    "        tat[i] = bt[i] + wt[i] \n",
    "\n",
    "\n",
    "# Function to calculate average waiting \n",
    "# and turn-around times. \n",
    "def findavgTime(processes, n, bt, quantum): \n",
    "    wt = [0] * n \n",
    "    tat = [0] * n \n",
    "\n",
    "    # Function to find waiting time \n",
    "    # of all processes \n",
    "    findWaitingTime(processes, n, bt, \n",
    "                        wt, quantum) \n",
    "\n",
    "    # Function to find turn around time \n",
    "    # for all processes \n",
    "    findTurnAroundTime(processes, n, bt, \n",
    "                                wt, tat) \n",
    "\n",
    "    # Display processes along with all details \n",
    "    print(\"Processes Burst Time     Waiting\", \n",
    "                    \"Time Turn-Around Time\") \n",
    "    total_wt = 0\n",
    "    total_tat = 0\n",
    "    for i in range(n): \n",
    "\n",
    "        total_wt = total_wt + wt[i] \n",
    "        total_tat = total_tat + tat[i] \n",
    "        print(\" \", i + 1, \"\\t\\t\", bt[i], \n",
    "            \"\\t\\t\", wt[i], \"\\t\\t\", tat[i]) \n",
    "\n",
    "    print(\"\\nAverage waiting time = %.5f \"%(total_wt /n) ) \n",
    "    print(\"Average turn around time = %.5f \"% (total_tat / n)) \n",
    "    \n",
    "# Driver code \n",
    "if __name__ ==\"__main__\": \n",
    "\n",
    "\n",
    "    # Burst \n",
    "    burst_time = [15, 5, 25,12,30] \n",
    "    n=len(burst_time)\n",
    "    proc=[i+1 for i in range(n)]\n",
    "    quantum = 10; \n",
    "    findavgTime(proc, n, burst_time, quantum) \n",
    "\n",
    "    "
   ]
  },
  {
   "cell_type": "raw",
   "metadata": {},
   "source": [
    "def RRq(proc1,bt1,arr1,TQ1):\n",
    "    # Python program for implementation of RR Scheduling\n",
    "    print(\"Enter Total Process Number: \")\n",
    "    total_p_no = int(input())\n",
    "    total_time = 0 \n",
    "    total_time_counted = 0\n",
    "    # proc is process list\n",
    "    proc = []\n",
    "    wait_time = 0\n",
    "    turnaround_time = 0\n",
    "    for _ in range(total_p_no):\n",
    "        # Getting the input for process\n",
    "        print(\"Enter process arrival time and burst time\") \n",
    "        input_info = list(map(int, input().split(\" \")))\n",
    "        arrival, burst, remaining_time = input_info[0], input_info[1], input_info[1]\n",
    "        # processes are appended to the proc list in following format\n",
    "        proc.append([arrival, burst, remaining_time, 0])\n",
    "        # total_time gets incremented with burst time of each process\n",
    "        total_time += burst\n",
    "    print(\"Enter time quantum\")\n",
    "    time_quantum = int(input())\n",
    "    # Keep traversing in round robin manner until the total_time == 0\n",
    "    while total_time != 0:\n",
    "        # traverse all the processes\n",
    "        for i in range(len(proc)):\n",
    "            # proc[i][2] here refers to remaining_time for each process i.e \"i\"\n",
    "            if proc[i][2] <= time_quantum and proc[i][2] >= 0:\n",
    "                total_time_counted += proc[i][2]\n",
    "                total_time -= proc[i][2]\n",
    "                # the process has completely ended here thus setting it's remaining time to 0.\n",
    "                proc[i][2] = 0 \n",
    "            elif proc[i][2] > 0:\n",
    "                # if process has not finished, decrementing it's remaining time by time_quantum\n",
    "                proc[i][2] -= time_quantum\n",
    "                total_time -= time_quantum\n",
    "                total_time_counted += time_quantum\n",
    "            if proc[i][2] == 0 and proc[i][3] != 1:\n",
    "                # if remaining time of process is 0\n",
    "                # and \n",
    "                # individual waiting time of process has not been calculated i.e flag\n",
    "                wait_time += total_time_counted - proc[i][0] - proc[i][1]\n",
    "                turnaround_time += total_time_counted - proc[i][0]\n",
    "                # flag is set to 1 once wait time is calculated\n",
    "                proc[i][3] = 1 \n",
    "    print(\"\\nAvg Waiting Time is \", (wait_time * 1) / total_p_no)\n",
    "    print(\"Avg Turnaround Time is \", (turnaround_time * 1) / total_p_no)"
   ]
  },
  {
   "cell_type": "code",
   "execution_count": 20,
   "metadata": {
    "ExecuteTime": {
     "end_time": "2019-10-17T07:23:58.534760Z",
     "start_time": "2019-10-17T07:23:58.526749Z"
    }
   },
   "outputs": [],
   "source": [
    "def RR1(bt1,arr1,TQ1):\n",
    "    # Python program for implementation of RR Scheduling\n",
    "    print(\"Enter Total Process Number: \")\n",
    "    total_p_no = len(bt1)\n",
    "    total_time = 0 \n",
    "    total_time_counted = 0\n",
    "    proc = []\n",
    "    wait_time = 0\n",
    "    turnaround_time = 0\n",
    "    for i in range(total_p_no):\n",
    "        # Getting the input for process\n",
    "        print(\"Enter process arrival time and burst time\") \n",
    "        input_info = [arr1[i],bt1[i]]\n",
    "        arrival, burst, remaining_time = input_info[0], input_info[1], input_info[1]\n",
    "        # processes are appended to the proc list in following format\n",
    "        proc.append([arrival, burst, remaining_time, 0])\n",
    "        # total_time gets incremented with burst time of each process\n",
    "        total_time += burst\n",
    "    time_quantum = TQ1\n",
    "    # Keep traversing in round robin manner until the total_time == 0\n",
    "    while total_time != 0:\n",
    "        # traverse all the processes\n",
    "        for i in range(len(proc)):\n",
    "            # proc[i][2] here refers to remaining_time for each process i.e \"i\"\n",
    "            if proc[i][2] <= time_quantum and proc[i][2] >= 0:\n",
    "                total_time_counted += proc[i][2]\n",
    "                total_time -= proc[i][2]\n",
    "                # the process has completely ended here thus setting it's remaining time to 0.\n",
    "                proc[i][2] = 0 \n",
    "            elif proc[i][2] > 0:\n",
    "                # if process has not finished, decrementing it's remaining time by time_quantum\n",
    "                proc[i][2] -= time_quantum\n",
    "                total_time -= time_quantum\n",
    "                total_time_counted += time_quantum\n",
    "            if proc[i][2] == 0 and proc[i][3] != 1:\n",
    "                # if remaining time of process is 0\n",
    "                # and \n",
    "                # individual waiting time of process has not been calculated i.e flag\n",
    "                wait_time += total_time_counted - proc[i][0] - proc[i][1]\n",
    "                turnaround_time += total_time_counted - proc[i][0]\n",
    "                # flag is set to 1 once wait time is calculated\n",
    "                proc[i][3] = 1 \n",
    "    print(\"\\nAvg Waiting Time is \", (wait_time * 1) / total_p_no)\n",
    "    print(\"Avg Turnaround Time is \", (turnaround_time * 1) / total_p_no)"
   ]
  },
  {
   "cell_type": "code",
   "execution_count": 21,
   "metadata": {
    "ExecuteTime": {
     "end_time": "2019-10-17T07:23:59.056336Z",
     "start_time": "2019-10-17T07:23:59.051350Z"
    }
   },
   "outputs": [
    {
     "name": "stdout",
     "output_type": "stream",
     "text": [
      "Enter Total Process Number: \n",
      "Enter process arrival time and burst time\n",
      "Enter process arrival time and burst time\n",
      "Enter process arrival time and burst time\n",
      "Enter process arrival time and burst time\n",
      "Enter process arrival time and burst time\n",
      "\n",
      "Avg Waiting Time is  40.8\n",
      "Avg Turnaround Time is  58.2\n"
     ]
    }
   ],
   "source": [
    "bt = [15, 5, 25,12,30] \n",
    "at=[0]*5\n",
    "RR1(bt,at,10)"
   ]
  },
  {
   "cell_type": "code",
   "execution_count": 60,
   "metadata": {
    "ExecuteTime": {
     "end_time": "2019-10-17T09:05:18.315682Z",
     "start_time": "2019-10-17T09:05:18.279779Z"
    }
   },
   "outputs": [
    {
     "name": "stdout",
     "output_type": "stream",
     "text": [
      "[15, 5, 25, 12, 30]\n",
      "[15, 5, 25, 12, 30]\n",
      "values 5   0\n",
      "values 5   0\n",
      "values 5   0\n",
      "values 5   0\n",
      "values 5   0\n",
      "values 5   0\n",
      "values 5   0\n",
      "values 5   0\n",
      "values 5   0\n",
      "values 5   0\n",
      "[5, 5, 25, 12, 30]\n",
      "[5, 5, 25, 12, 30]\n",
      "values 5   0\n",
      "values 5   0\n",
      "values 5   0\n",
      "values 5   0\n",
      "values 5   0\n",
      "[5, 0, 25, 12, 30]\n",
      "[5, 0, 25, 12, 30]\n",
      "values 5   1\n",
      "values 5   1\n",
      "values 5   1\n",
      "values 5   1\n",
      "values 5   1\n",
      "values 5   1\n",
      "values 5   1\n",
      "values 5   1\n",
      "values 5   1\n",
      "values 5   1\n",
      "[5, 0, 15, 12, 30]\n",
      "[5, 0, 15, 12, 30]\n",
      "values 5   1\n",
      "values 5   1\n",
      "values 5   1\n",
      "values 5   1\n",
      "values 5   1\n",
      "values 5   1\n",
      "values 5   1\n",
      "values 5   1\n",
      "values 5   1\n",
      "values 5   1\n",
      "[5, 0, 15, 2, 30]\n",
      "[5, 0, 15, 2, 30]\n",
      "values 5   1\n",
      "values 5   1\n",
      "values 5   1\n",
      "values 5   1\n",
      "values 5   1\n",
      "values 5   1\n",
      "values 5   1\n",
      "values 5   1\n",
      "values 5   1\n",
      "values 5   1\n",
      "[5, 0, 15, 2, 20]\n",
      "[5, 0, 15, 2, 20]\n",
      "values 5   1\n",
      "values 5   1\n",
      "values 5   1\n",
      "values 5   1\n",
      "values 5   1\n",
      "[0, 0, 15, 2, 20]\n",
      "[0, 0, 15, 2, 20]\n",
      "[0, 0, 15, 2, 20]\n",
      "values 5   2\n",
      "values 5   2\n",
      "values 5   2\n",
      "values 5   2\n",
      "values 5   2\n",
      "values 5   2\n",
      "values 5   2\n",
      "values 5   2\n",
      "values 5   2\n",
      "values 5   2\n",
      "[0, 0, 5, 2, 20]\n",
      "[0, 0, 5, 2, 20]\n",
      "values 5   2\n",
      "values 5   2\n",
      "[0, 0, 5, 0, 20]\n",
      "[0, 0, 5, 0, 20]\n",
      "values 5   3\n",
      "values 5   3\n",
      "values 5   3\n",
      "values 5   3\n",
      "values 5   3\n",
      "values 5   3\n",
      "values 5   3\n",
      "values 5   3\n",
      "values 5   3\n",
      "values 5   3\n",
      "[0, 0, 5, 0, 10]\n",
      "[0, 0, 5, 0, 10]\n",
      "[0, 0, 5, 0, 10]\n",
      "[0, 0, 5, 0, 10]\n",
      "values 5   3\n",
      "values 5   3\n",
      "values 5   3\n",
      "values 5   3\n",
      "values 5   3\n",
      "[0, 0, 0, 0, 10]\n",
      "[0, 0, 0, 0, 10]\n",
      "[0, 0, 0, 0, 10]\n",
      "values 5   4\n",
      "values 5   4\n",
      "values 5   4\n",
      "values 5   4\n",
      "values 5   4\n",
      "values 5   4\n",
      "values 5   4\n",
      "values 5   4\n",
      "values 5   4\n",
      "values 5   4\n"
     ]
    }
   ],
   "source": [
    "def addtoP(p1,at,bt,n,t):\n",
    "    c=0\n",
    "    for i in range(n,len(bt)):\n",
    "        if(at[i]>t):\n",
    "            return c\n",
    "        else:\n",
    "            p1+=[bt[i]]\n",
    "            c+=1\n",
    "    return c       \n",
    "        \n",
    "\n",
    "noep=0\n",
    "nofp=0\n",
    "at=[0]*5\n",
    "bt=[15, 5, 25,12,30]\n",
    "t=0\n",
    "q=10\n",
    "wt=0\n",
    "sbt=sum(bt)\n",
    "p1=[]\n",
    "tot=1\n",
    "while(noep<len(bt) or t<sbt):\n",
    "    i=0\n",
    "    noep+=addtoP(p1,at,bt,noep,t)\n",
    "    #print(noep)\n",
    "    entered=False\n",
    "    while i<noep:\n",
    "        #print(\"ent\")\n",
    "        print(p1)\n",
    "        if(p1[i]!=0):\n",
    "            print(p1)\n",
    "            #print(\"ent2\")\n",
    "            entered=True\n",
    "            if(p1[i]>q):\n",
    "                for j in range(q):\n",
    "                    wt+=(noep-nofp-1)\n",
    "                    print(\"values\",noep,\" \",nofp)\n",
    "                    p1[i]-=1\n",
    "                    t+=1\n",
    "                    tot+=1\n",
    "                    noep+=addtoP(p1,at,bt,noep,t)\n",
    "            else:\n",
    "                for j in range(p1[i]):     \n",
    "                    wt+=(noep-nofp-1)\n",
    "                    print(\"values\",noep,\" \",nofp)\n",
    "                    p1[i]-=1\n",
    "                    t+=1\n",
    "                    tot+=1\n",
    "                    \n",
    "                    noep+=addtoP(p1,at,bt,noep,t)\n",
    "                nofp+=1    \n",
    "                    \n",
    "        i+=1\n",
    "        \n",
    "    if(not entered):\n",
    "        tot+=1\n",
    "        \n"
   ]
  },
  {
   "cell_type": "code",
   "execution_count": 62,
   "metadata": {
    "ExecuteTime": {
     "end_time": "2019-10-17T09:05:26.647673Z",
     "start_time": "2019-10-17T09:05:26.642686Z"
    }
   },
   "outputs": [
    {
     "data": {
      "text/plain": [
       "40.8"
      ]
     },
     "execution_count": 62,
     "metadata": {},
     "output_type": "execute_result"
    }
   ],
   "source": [
    "wt/5"
   ]
  },
  {
   "cell_type": "code",
   "execution_count": 55,
   "metadata": {
    "ExecuteTime": {
     "end_time": "2019-10-17T09:00:21.859531Z",
     "start_time": "2019-10-17T09:00:21.855542Z"
    }
   },
   "outputs": [
    {
     "data": {
      "text/plain": [
       "87"
      ]
     },
     "execution_count": 55,
     "metadata": {},
     "output_type": "execute_result"
    }
   ],
   "source": [
    "t"
   ]
  },
  {
   "cell_type": "code",
   "execution_count": 56,
   "metadata": {
    "ExecuteTime": {
     "end_time": "2019-10-17T09:00:26.209356Z",
     "start_time": "2019-10-17T09:00:26.205368Z"
    }
   },
   "outputs": [
    {
     "data": {
      "text/plain": [
       "88"
      ]
     },
     "execution_count": 56,
     "metadata": {},
     "output_type": "execute_result"
    }
   ],
   "source": [
    "tot"
   ]
  },
  {
   "cell_type": "code",
   "execution_count": null,
   "metadata": {},
   "outputs": [],
   "source": []
  }
 ],
 "metadata": {
  "kernelspec": {
   "display_name": "Python 3",
   "language": "python",
   "name": "python3"
  },
  "language_info": {
   "codemirror_mode": {
    "name": "ipython",
    "version": 3
   },
   "file_extension": ".py",
   "mimetype": "text/x-python",
   "name": "python",
   "nbconvert_exporter": "python",
   "pygments_lexer": "ipython3",
   "version": "3.7.3"
  },
  "toc": {
   "base_numbering": 1,
   "nav_menu": {},
   "number_sections": true,
   "sideBar": true,
   "skip_h1_title": false,
   "title_cell": "Table of Contents",
   "title_sidebar": "Contents",
   "toc_cell": false,
   "toc_position": {},
   "toc_section_display": true,
   "toc_window_display": false
  },
  "varInspector": {
   "cols": {
    "lenName": 16,
    "lenType": 16,
    "lenVar": 40
   },
   "kernels_config": {
    "python": {
     "delete_cmd_postfix": "",
     "delete_cmd_prefix": "del ",
     "library": "var_list.py",
     "varRefreshCmd": "print(var_dic_list())"
    },
    "r": {
     "delete_cmd_postfix": ") ",
     "delete_cmd_prefix": "rm(",
     "library": "var_list.r",
     "varRefreshCmd": "cat(var_dic_list()) "
    }
   },
   "types_to_exclude": [
    "module",
    "function",
    "builtin_function_or_method",
    "instance",
    "_Feature"
   ],
   "window_display": false
  }
 },
 "nbformat": 4,
 "nbformat_minor": 2
}
