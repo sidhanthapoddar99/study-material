{
 "cells": [
  {
   "cell_type": "markdown",
   "metadata": {},
   "source": [
    "# RR"
   ]
  },
  {
   "cell_type": "code",
   "execution_count": 15,
   "metadata": {
    "ExecuteTime": {
     "end_time": "2019-10-17T09:31:35.752486Z",
     "start_time": "2019-10-17T09:31:35.741517Z"
    }
   },
   "outputs": [],
   "source": [
    "\n",
    "def RR(bt,at,q):\n",
    "    def addtoP(p1,at,bt,n,t):\n",
    "        c=0\n",
    "        for i in range(n,len(bt)):\n",
    "            if(at[i]>t):\n",
    "                return c\n",
    "            else:\n",
    "                p1+=[bt[i]]\n",
    "                c+=1\n",
    "        return c       \n",
    "\n",
    "\n",
    "    noep=0\n",
    "    nofp=0\n",
    "    #at=[0]*5\n",
    "    #bt=[15, 5, 25,12,30]\n",
    "    t=0\n",
    "    #q=10\n",
    "    wt=0\n",
    "    sbt=sum(bt)\n",
    "    p1=[]\n",
    "    tot=1\n",
    "    while(noep<len(bt) or t<sbt):\n",
    "        i=0\n",
    "        noep+=addtoP(p1,at,bt,noep,tot)\n",
    "        #print(noep)\n",
    "        entered=False\n",
    "        while i<noep:\n",
    "            #print(\"ent\")\n",
    "            #print(p1)\n",
    "            if(p1[i]!=0):\n",
    "                #print(p1)\n",
    "                #print(\"ent2\")\n",
    "                entered=True\n",
    "                if(p1[i]>q):\n",
    "                    for j in range(q):\n",
    "                        wt+=(noep-nofp-1)\n",
    "                        #print(\"values\",noep,\" \",nofp)\n",
    "                        p1[i]-=1\n",
    "                        t+=1\n",
    "                        tot+=1\n",
    "                        noep+=addtoP(p1,at,bt,noep,t)\n",
    "                else:\n",
    "                    for j in range(p1[i]):     \n",
    "                        wt+=(noep-nofp-1)\n",
    "                        #print(\"values\",noep,\" \",nofp)\n",
    "                        p1[i]-=1\n",
    "                        t+=1\n",
    "                        tot+=1\n",
    "\n",
    "                        noep+=addtoP(p1,at,bt,noep,t)\n",
    "                    nofp+=1    \n",
    "\n",
    "            i+=1\n",
    "\n",
    "        if(not entered):\n",
    "            tot+=1\n",
    "    print(wt/len(bt))\n"
   ]
  },
  {
   "cell_type": "markdown",
   "metadata": {},
   "source": [
    "# IRR"
   ]
  },
  {
   "cell_type": "code",
   "execution_count": 3,
   "metadata": {
    "ExecuteTime": {
     "end_time": "2019-10-17T07:29:17.107218Z",
     "start_time": "2019-10-17T07:29:17.100199Z"
    }
   },
   "outputs": [],
   "source": [
    "def IRR(bt1,arr1,TQ1):\n",
    "    # Python program for implementation of RR Scheduling\n",
    "    print(\"Enter Total Process Number: \")\n",
    "    total_p_no = len(bt1)\n",
    "    total_time = 0 \n",
    "    total_time_counted = 0\n",
    "    proc = []\n",
    "    wait_time = 0\n",
    "    turnaround_time = 0\n",
    "    for i in range(total_p_no):\n",
    "        # Getting the input for process\n",
    "        print(\"Enter process arrival time and burst time\") \n",
    "        input_info = [arr1[i],bt1[i]]\n",
    "        arrival, burst, remaining_time = input_info[0], input_info[1], input_info[1]\n",
    "        # processes are appended to the proc list in following format\n",
    "        proc.append([arrival, burst, remaining_time, 0])\n",
    "        # total_time gets incremented with burst time of each process\n",
    "        total_time += burst\n",
    "    time_quantum = TQ1\n",
    "    # Keep traversing in round robin manner until the total_time == 0\n",
    "    while total_time != 0:\n",
    "        # traverse all the processes\n",
    "        for i in range(len(proc)):\n",
    "            # proc[i][2] here refers to remaining_time for each process i.e \"i\"\n",
    "            if proc[i][2] <= time_quantum and proc[i][2] >= 0:\n",
    "                total_time_counted += proc[i][2]\n",
    "                total_time -= proc[i][2]\n",
    "                # the process has completely ended here thus setting it's remaining time to 0.\n",
    "                proc[i][2] = 0 \n",
    "            elif proc[i][2] > 0:\n",
    "                # if process has not finished, decrementing it's remaining time by time_quantum\n",
    "                proc[i][2] -= time_quantum\n",
    "                total_time -= time_quantum\n",
    "                total_time_counted += time_quantum\n",
    "            if proc[i][2] == 0 and proc[i][3] != 1:\n",
    "                # if remaining time of process is 0\n",
    "                # and \n",
    "                # individual waiting time of process has not been calculated i.e flag\n",
    "                wait_time += total_time_counted - proc[i][0] - proc[i][1]\n",
    "                turnaround_time += total_time_counted - proc[i][0]\n",
    "                # flag is set to 1 once wait time is calculated\n",
    "                proc[i][3] = 1 \n",
    "    print(\"\\nAvg Waiting Time is \", (wait_time * 1) / total_p_no)\n",
    "    print(\"Avg Turnaround Time is \", (turnaround_time * 1) / total_p_no)"
   ]
  },
  {
   "cell_type": "code",
   "execution_count": 23,
   "metadata": {
    "ExecuteTime": {
     "end_time": "2019-10-17T09:32:50.220554Z",
     "start_time": "2019-10-17T09:32:50.215566Z"
    }
   },
   "outputs": [
    {
     "name": "stdout",
     "output_type": "stream",
     "text": [
      "40.8\n"
     ]
    }
   ],
   "source": [
    "bt = [15, 5, 25,12,30] \n",
    "at=[0,0,0,0,0]\n",
    "RR(bt,at,10)"
   ]
  }
 ],
 "metadata": {
  "kernelspec": {
   "display_name": "Python 3",
   "language": "python",
   "name": "python3"
  },
  "language_info": {
   "codemirror_mode": {
    "name": "ipython",
    "version": 3
   },
   "file_extension": ".py",
   "mimetype": "text/x-python",
   "name": "python",
   "nbconvert_exporter": "python",
   "pygments_lexer": "ipython3",
   "version": "3.7.3"
  },
  "toc": {
   "base_numbering": 1,
   "nav_menu": {},
   "number_sections": true,
   "sideBar": true,
   "skip_h1_title": false,
   "title_cell": "Table of Contents",
   "title_sidebar": "Contents",
   "toc_cell": false,
   "toc_position": {},
   "toc_section_display": true,
   "toc_window_display": false
  },
  "varInspector": {
   "cols": {
    "lenName": 16,
    "lenType": 16,
    "lenVar": 40
   },
   "kernels_config": {
    "python": {
     "delete_cmd_postfix": "",
     "delete_cmd_prefix": "del ",
     "library": "var_list.py",
     "varRefreshCmd": "print(var_dic_list())"
    },
    "r": {
     "delete_cmd_postfix": ") ",
     "delete_cmd_prefix": "rm(",
     "library": "var_list.r",
     "varRefreshCmd": "cat(var_dic_list()) "
    }
   },
   "types_to_exclude": [
    "module",
    "function",
    "builtin_function_or_method",
    "instance",
    "_Feature"
   ],
   "window_display": false
  }
 },
 "nbformat": 4,
 "nbformat_minor": 2
}
