{
 "cells": [
  {
   "cell_type": "code",
   "execution_count": null,
   "metadata": {},
   "outputs": [],
   "source": []
  },
  {
   "cell_type": "code",
   "execution_count": null,
   "metadata": {},
   "outputs": [],
   "source": []
  },
  {
   "cell_type": "markdown",
   "metadata": {},
   "source": [
    "https://www.researchgate.net/publication/322928085_Round_Robin_based_Scheduling_Algorithms_A_Comparative_Study\n",
    "\n",
    "http://irejournals.com/formatedpaper/1700273.pdf\n",
    "\n",
    "https://www.researchgate.net/publication/305391498_An_Enhanced_Round_Robin_CPU_Scheduling_Algorithm\n",
    "\n",
    "\n",
    "https://pdfs.semanticscholar.org/a873/7a10e48d3fdb38d9e89759a8d8974948071d.pdf\n",
    "\n",
    "https://www.semanticscholar.org/paper/Comparative-Performance-Analysis-of-Average-Max-(-)-Banerjee-Banerjee/6f75d7977a549b5d5ef027d11fa34c5e49daf5ee"
   ]
  },
  {
   "cell_type": "markdown",
   "metadata": {},
   "source": [
    "# RR without AT"
   ]
  },
  {
   "cell_type": "code",
   "execution_count": 104,
   "metadata": {
    "ExecuteTime": {
     "end_time": "2019-10-17T11:35:42.913525Z",
     "start_time": "2019-10-17T11:35:42.898565Z"
    },
    "code_folding": [
     2
    ]
   },
   "outputs": [
    {
     "name": "stdout",
     "output_type": "stream",
     "text": [
      "Processes Burst Time     Waiting Time Turn-Around Time\n",
      "  1 \t\t 20 \t\t 35 \t\t 55\n",
      "  2 \t\t 34 \t\t 63 \t\t 97\n",
      "  3 \t\t 5 \t\t 20 \t\t 25\n",
      "  4 \t\t 12 \t\t 55 \t\t 67\n",
      "  5 \t\t 26 \t\t 67 \t\t 93\n",
      "\n",
      "Average waiting time = 48.00000 \n",
      "Average turn around time = 67.40000 \n"
     ]
    }
   ],
   "source": [
    "\n",
    "\n",
    "def findWaitingTime(processes, n, bt,wt, quantum): \n",
    "    rem_bt = [0] * n \n",
    "\n",
    "    # Copy the burst time into rt[] \n",
    "    for i in range(n): \n",
    "        rem_bt[i] = bt[i] \n",
    "    t = 0 # Current time \n",
    "    while(1): \n",
    "        done = True\n",
    "        for i in range(n): \n",
    "            if (rem_bt[i] > 0) : \n",
    "                done = False # There is a pending process \n",
    "                if (rem_bt[i] > quantum) : \n",
    "                    t += quantum \n",
    "                    rem_bt[i] -= quantum \n",
    "\n",
    "                else: \n",
    "                    t = t + rem_bt[i] \n",
    "                    wt[i] = t - bt[i] \n",
    "                    rem_bt[i] = 0\n",
    "                \n",
    "        # If all processes are done \n",
    "        if (done == True): \n",
    "            break\n",
    "            \n",
    "# Function to calculate turn around time \n",
    "def findTurnAroundTime(processes, n, bt, wt, tat): \n",
    "    \n",
    "    # Calculating turnaround time \n",
    "    for i in range(n): \n",
    "        tat[i] = bt[i] + wt[i] \n",
    "\n",
    "\n",
    "# Function to calculate average waiting \n",
    "# and turn-around times. \n",
    "def findavgTime(processes, n, bt, quantum): \n",
    "    wt = [0] * n \n",
    "    tat = [0] * n \n",
    "\n",
    "    # Function to find waiting time \n",
    "    # of all processes \n",
    "    findWaitingTime(processes, n, bt, \n",
    "                        wt, quantum) \n",
    "\n",
    "    # Function to find turn around time \n",
    "    # for all processes \n",
    "    findTurnAroundTime(processes, n, bt, \n",
    "                                wt, tat) \n",
    "\n",
    "    # Display processes along with all details \n",
    "    print(\"Processes Burst Time     Waiting\", \n",
    "                    \"Time Turn-Around Time\") \n",
    "    total_wt = 0\n",
    "    total_tat = 0\n",
    "    for i in range(n): \n",
    "\n",
    "        total_wt = total_wt + wt[i] \n",
    "        total_tat = total_tat + tat[i] \n",
    "        print(\" \", i + 1, \"\\t\\t\", bt[i], \n",
    "            \"\\t\\t\", wt[i], \"\\t\\t\", tat[i]) \n",
    "\n",
    "    print(\"\\nAverage waiting time = %.5f \"%(total_wt /n) ) \n",
    "    print(\"Average turn around time = %.5f \"% (total_tat / n)) \n",
    "    \n",
    "# Driver code \n",
    "if __name__ ==\"__main__\": \n",
    "\n",
    "\n",
    "    # Burst \n",
    "    burst_time = bt = [20,34,5,12,26] \n",
    "\n",
    "    n=len(burst_time)\n",
    "    proc=[i+1 for i in range(n)]\n",
    "    quantum = 10; \n",
    "    findavgTime(proc, n, burst_time, quantum) \n",
    "\n",
    "    "
   ]
  },
  {
   "cell_type": "markdown",
   "metadata": {
    "code_folding": []
   },
   "source": [
    "# IRR without AT"
   ]
  },
  {
   "cell_type": "code",
   "execution_count": 16,
   "metadata": {
    "ExecuteTime": {
     "end_time": "2019-10-17T06:53:17.586291Z",
     "start_time": "2019-10-17T06:53:17.572340Z"
    }
   },
   "outputs": [
    {
     "name": "stdout",
     "output_type": "stream",
     "text": [
      "Processes Burst Time     Waiting Time Turn-Around Time\n",
      "  1 \t\t 15 \t\t 0 \t\t 15\n",
      "  2 \t\t 5 \t\t 15 \t\t 20\n",
      "  3 \t\t 25 \t\t 42 \t\t 67\n",
      "  4 \t\t 12 \t\t 30 \t\t 42\n",
      "  5 \t\t 30 \t\t 57 \t\t 87\n",
      "\n",
      "Average waiting time = 28.80000 \n",
      "Average turn around time = 46.20000 \n"
     ]
    }
   ],
   "source": [
    "\n",
    "\n",
    "def findWaitingTime(processes, n, bt,wt, quantum): \n",
    "    rem_bt = [0] * n \n",
    "\n",
    "    # Copy the burst time into rt[] \n",
    "    for i in range(n): \n",
    "        rem_bt[i] = bt[i] \n",
    "    t = 0 # Current time \n",
    "    while(1): \n",
    "        done = True\n",
    "        for i in range(n): \n",
    "            if (rem_bt[i] >0) : \n",
    "                done = False # There is a pending process \n",
    "                if (rem_bt[i] >= quantum) : \n",
    "                    t += quantum \n",
    "                    rem_bt[i] -= quantum\n",
    "                    if (rem_bt[i] <= quantum) : \n",
    "                        t = t + rem_bt[i] \n",
    "                        wt[i] = t - bt[i] \n",
    "                        rem_bt[i] = 0\n",
    "                else: \n",
    "                    t = t + rem_bt[i] \n",
    "                    wt[i] = t - bt[i] \n",
    "                    rem_bt[i] = 0       \n",
    "\n",
    "        # If all processes are done \n",
    "        if (done == True): \n",
    "            break\n",
    "            \n",
    "# Function to calculate turn around time \n",
    "def findTurnAroundTime(processes, n, bt, wt, tat): \n",
    "    \n",
    "    # Calculating turnaround time \n",
    "    for i in range(n): \n",
    "        tat[i] = bt[i] + wt[i] \n",
    "\n",
    "\n",
    "# Function to calculate average waiting \n",
    "# and turn-around times. \n",
    "def findavgTime(processes, n, bt, quantum): \n",
    "    wt = [0] * n \n",
    "    tat = [0] * n \n",
    "\n",
    "    # Function to find waiting time \n",
    "    # of all processes \n",
    "    findWaitingTime(processes, n, bt, \n",
    "                        wt, quantum) \n",
    "\n",
    "    # Function to find turn around time \n",
    "    # for all processes \n",
    "    findTurnAroundTime(processes, n, bt, \n",
    "                                wt, tat) \n",
    "\n",
    "    # Display processes along with all details \n",
    "    print(\"Processes Burst Time     Waiting\", \n",
    "                    \"Time Turn-Around Time\") \n",
    "    total_wt = 0\n",
    "    total_tat = 0\n",
    "    for i in range(n): \n",
    "\n",
    "        total_wt = total_wt + wt[i] \n",
    "        total_tat = total_tat + tat[i] \n",
    "        print(\" \", i + 1, \"\\t\\t\", bt[i], \n",
    "            \"\\t\\t\", wt[i], \"\\t\\t\", tat[i]) \n",
    "\n",
    "    print(\"\\nAverage waiting time = %.5f \"%(total_wt /n) ) \n",
    "    print(\"Average turn around time = %.5f \"% (total_tat / n)) \n",
    "    \n",
    "# Driver code \n",
    "if __name__ ==\"__main__\": \n",
    "\n",
    "\n",
    "    # Burst \n",
    "    burst_time = [15, 5, 25,12,30] \n",
    "    n=len(burst_time)\n",
    "    proc=[i+1 for i in range(n)]\n",
    "    quantum = 10; \n",
    "    findavgTime(proc, n, burst_time, quantum) \n",
    "\n",
    "    "
   ]
  },
  {
   "cell_type": "markdown",
   "metadata": {},
   "source": [
    "# RR with At"
   ]
  },
  {
   "cell_type": "code",
   "execution_count": 111,
   "metadata": {
    "ExecuteTime": {
     "end_time": "2019-10-17T11:48:46.615640Z",
     "start_time": "2019-10-17T11:48:46.605629Z"
    }
   },
   "outputs": [],
   "source": [
    "\n",
    "def RR(bt,at,q):\n",
    "    def addtoP(p1,at,bt,n,t):\n",
    "        c=0\n",
    "        for i in range(n,len(bt)):\n",
    "            if(at[i]>t):\n",
    "                return c\n",
    "            else:\n",
    "                p1+=[bt[i]]\n",
    "                c+=1\n",
    "        return c       \n",
    "\n",
    "\n",
    "    noep=0\n",
    "    nofp=0\n",
    "    #at=[0]*5\n",
    "    #bt=[15, 5, 25,12,30]\n",
    "    t=0\n",
    "    #q=10\n",
    "    wt=0\n",
    "    sbt=sum(bt)\n",
    "    p1=[]\n",
    "    tot=1\n",
    "    while(noep<len(bt) or t<sbt):\n",
    "        i=0\n",
    "        noep+=addtoP(p1,at,bt,noep,tot)\n",
    "        #print(noep)\n",
    "        entered=False\n",
    "        while i<noep:\n",
    "            #print(\"ent\")\n",
    "            #print(p1)\n",
    "            if(p1[i]!=0):\n",
    "                #print(p1)\n",
    "                #print(\"ent2\")\n",
    "                entered=True\n",
    "                if(p1[i]>q):\n",
    "                    for j in range(q):\n",
    "                        wt+=(noep-nofp-1)\n",
    "                        #print(\"values\",noep,\" \",nofp)\n",
    "                        p1[i]-=1\n",
    "                        t+=1\n",
    "                        tot+=1\n",
    "                        noep+=addtoP(p1,at,bt,noep,t)\n",
    "                else:\n",
    "                    for j in range(p1[i]):     \n",
    "                        wt+=(noep-nofp-1)\n",
    "                        #print(\"values\",noep,\" \",nofp)\n",
    "                        p1[i]-=1\n",
    "                        t+=1\n",
    "                        tot+=1\n",
    "\n",
    "                        noep+=addtoP(p1,at,bt,noep,t)\n",
    "                    nofp+=1    \n",
    "\n",
    "            i+=1\n",
    "\n",
    "        if(not entered):\n",
    "            tot+=1\n",
    "    print(wt/len(bt))\n"
   ]
  },
  {
   "cell_type": "markdown",
   "metadata": {},
   "source": [
    "# IRR with At"
   ]
  },
  {
   "cell_type": "code",
   "execution_count": 112,
   "metadata": {
    "ExecuteTime": {
     "end_time": "2019-10-17T11:48:47.064616Z",
     "start_time": "2019-10-17T11:48:47.055640Z"
    }
   },
   "outputs": [],
   "source": [
    "\n",
    "def IRR(bt,at,q):\n",
    "    def addtoP(p1,at,bt,n,t):\n",
    "        c=0\n",
    "        for i in range(n,len(bt)):\n",
    "            if(at[i]>t):\n",
    "                return c\n",
    "            else:\n",
    "                p1+=[bt[i]]\n",
    "                c+=1\n",
    "        return c       \n",
    "\n",
    "\n",
    "    noep=0\n",
    "    nofp=0\n",
    "    #at=[0]*5\n",
    "    #bt=[15, 5, 25,12,30]\n",
    "    t=0\n",
    "    #q=10\n",
    "    wt=0\n",
    "    sbt=sum(bt)\n",
    "    p1=[]\n",
    "    tot=1\n",
    "    while(noep<len(bt) or t<sbt):\n",
    "        i=0\n",
    "        noep+=addtoP(p1,at,bt,noep,tot)\n",
    "        #print(noep)\n",
    "        entered=False\n",
    "        while i<noep:\n",
    "            #print(\"ent\")\n",
    "            #print(p1)\n",
    "            if(p1[i]!=0):\n",
    "                #print(p1)\n",
    "                #print(\"ent2\")\n",
    "                entered=True\n",
    "                if(p1[i]>q):\n",
    "                    for j in range(q):\n",
    "                        t+=1\n",
    "                        tot+=1\n",
    "                        #noep+=addtoP(p1,at,bt,noep,t)\n",
    "                        wt+=(noep-nofp-1)\n",
    "                        #print(\"values\",noep,\" \",nofp)\n",
    "                        p1[i]-=1\n",
    "                        noep+=addtoP(p1,at,bt,noep,t)\n",
    "                    \n",
    "                if (p1[i]<=q and p1[i]!=0):\n",
    "                    for j in range(p1[i]):\n",
    "                        t+=1\n",
    "                        tot+=1\n",
    "                        #noep+=addtoP(p1,at,bt,noep,t)\n",
    "                        wt+=(noep-nofp-1)\n",
    "                        #print(\"values\",noep,\" \",nofp)\n",
    "                        p1[i]-=1\n",
    "                        noep+=addtoP(p1,at,bt,noep,t)\n",
    "                    nofp+=1    \n",
    "\n",
    "            i+=1\n",
    "\n",
    "        if(not entered):\n",
    "            tot+=1\n",
    "    print(wt/len(bt))\n"
   ]
  },
  {
   "cell_type": "markdown",
   "metadata": {},
   "source": [
    "# IRRVQ with AT"
   ]
  },
  {
   "cell_type": "code",
   "execution_count": 156,
   "metadata": {
    "ExecuteTime": {
     "end_time": "2019-10-17T15:01:25.113376Z",
     "start_time": "2019-10-17T15:01:25.103401Z"
    }
   },
   "outputs": [],
   "source": [
    "def IRRVQ(bt,at,q):\n",
    "            \n",
    "    def addtoP(p1,at,bt,n,t):\n",
    "        c=0\n",
    "        for i in range(n,len(bt)):\n",
    "            if(at[i]>t):\n",
    "                return c\n",
    "            else:\n",
    "                p1+=[bt[i]]\n",
    "                c+=1\n",
    "        return c       \n",
    "\n",
    "\n",
    "    noep=0\n",
    "    nofp=0\n",
    "    #at=[0]*5\n",
    "    #bt=[15, 5, 25,12,30]\n",
    "    t=0\n",
    "    #q=10\n",
    "    wt=0\n",
    "    sbt=sum(bt)\n",
    "    p1=[]\n",
    "    tot=1\n",
    "    noep+=addtoP(p1,at,bt,noep,tot)\n",
    "    p1.sort()\n",
    "    q=p1[nofp]\n",
    "    while(noep<len(bt) or t<sbt):\n",
    "    \n",
    "        i=0\n",
    "        noep+=addtoP(p1,at,bt,noep,tot)\n",
    "        p1.sort()\n",
    "        q=p1[nofp]\n",
    "        #print(q)\n",
    "        #print(noep)\n",
    "        entered=False\n",
    "        while i<noep:\n",
    "            #print(\"ent\")\n",
    "            #print(p1)\n",
    "            if(p1[i]!=0):\n",
    "                #print(p1) \n",
    "                #print(\"ent2\")\n",
    "                entered=True\n",
    "                if(p1[i]>q):\n",
    "                    for j in range(q):\n",
    "                        t+=1\n",
    "                        tot+=1\n",
    "                        #noep+=addtoP(p1,at,bt,noep,t)\n",
    "                        wt+=(noep-nofp-1)\n",
    "                        #print(\"values\",noep,\" \",nofp)\n",
    "                        p1[i]-=1\n",
    "                        noep+=addtoP(p1,at,bt,noep,t)\n",
    "                    \n",
    "                else:\n",
    "                    for j in range(p1[i]):\n",
    "                        t+=1\n",
    "                        tot+=1\n",
    "                        #noep+=addtoP(p1,at,bt,noep,t)\n",
    "                        wt+=(noep-nofp-1)\n",
    "                        #print(\"values\",noep,\" \",nofp)\n",
    "                        p1[i]-=1\n",
    "                        noep+=addtoP(p1,at,bt,noep,t)\n",
    "                    nofp+=1    \n",
    "\n",
    "            i+=1\n",
    "\n",
    "        if(not entered):\n",
    "            tot+=1\n",
    "    print(wt/len(bt))\n"
   ]
  },
  {
   "cell_type": "code",
   "execution_count": null,
   "metadata": {},
   "outputs": [],
   "source": []
  },
  {
   "cell_type": "code",
   "execution_count": 1,
   "metadata": {
    "ExecuteTime": {
     "end_time": "2019-10-17T15:11:50.708896Z",
     "start_time": "2019-10-17T15:11:50.698889Z"
    }
   },
   "outputs": [],
   "source": [
    "import math\n",
    "\n",
    "def AMRR(bt,at,q):\n",
    "            \n",
    "    def addtoP(p1,at,bt,n,t):\n",
    "        c=0\n",
    "        for i in range(n,len(bt)):\n",
    "            if(at[i]>t):\n",
    "                return c\n",
    "            else:\n",
    "                p1+=[bt[i]]\n",
    "                c+=1\n",
    "        return c       \n",
    "\n",
    "\n",
    "    noep=0\n",
    "    nofp=0\n",
    "    #at=[0]*5\n",
    "    #bt=[15, 5, 25,12,30]\n",
    "    t=0\n",
    "    #q=10\n",
    "    wt=0\n",
    "    sbt=sum(bt)\n",
    "    p1=[]\n",
    "    tot=1\n",
    "    noep+=addtoP(p1,at,bt,noep,tot)\n",
    "    #p1.sort()\n",
    "    #q=p1[nofp]\n",
    "    while(noep<len(bt) or t<sbt):\n",
    "    \n",
    "        i=0\n",
    "        noep+=addtoP(p1,at,bt,noep,tot)\n",
    "        p1.sort()\n",
    "        q=max(p1)+sum(p1)/(noep-nofp)\n",
    "        q=int(math.ceil(q/2))\n",
    "        #print(q)\n",
    "        #print(q)\n",
    "        #print(noep)\n",
    "        entered=False\n",
    "        while i<noep:\n",
    "            #print(\"ent\")\n",
    "            #print(p1)\n",
    "            if(p1[i]!=0):\n",
    "                #print(p1) \n",
    "                #print(\"ent2\")\n",
    "                entered=True\n",
    "                if(p1[i]>q):\n",
    "                    for j in range(q):\n",
    "                        t+=1\n",
    "                        tot+=1\n",
    "                        #noep+=addtoP(p1,at,bt,noep,t)\n",
    "                        wt+=(noep-nofp-1)\n",
    "                        #print(\"values\",noep,\" \",nofp)\n",
    "                        p1[i]-=1\n",
    "                        noep+=addtoP(p1,at,bt,noep,t)\n",
    "                    \n",
    "                else:\n",
    "                    for j in range(p1[i]):\n",
    "                        t+=1\n",
    "                        tot+=1\n",
    "                        #noep+=addtoP(p1,at,bt,noep,t)\n",
    "                        wt+=(noep-nofp-1)\n",
    "                        #print(\"values\",noep,\" \",nofp)\n",
    "                        p1[i]-=1\n",
    "                        noep+=addtoP(p1,at,bt,noep,t)\n",
    "                    nofp+=1    \n",
    "\n",
    "            i+=1\n",
    "\n",
    "        if(not entered):\n",
    "            tot+=1\n",
    "    print(wt/len(bt))\n"
   ]
  },
  {
   "cell_type": "code",
   "execution_count": 121,
   "metadata": {
    "ExecuteTime": {
     "end_time": "2019-10-17T12:04:41.114316Z",
     "start_time": "2019-10-17T12:04:41.109330Z"
    }
   },
   "outputs": [
    {
     "name": "stdout",
     "output_type": "stream",
     "text": [
      "40.8\n",
      "28.8\n"
     ]
    }
   ],
   "source": [
    "#check rrr\n",
    "\n",
    "bt = [15, 5, 25,12,30] \n",
    "at=[0,0,0,0,0]\n",
    "RR(bt,at,10)\n",
    "IRR(bt,at,10)"
   ]
  },
  {
   "cell_type": "code",
   "execution_count": 124,
   "metadata": {
    "ExecuteTime": {
     "end_time": "2019-10-17T12:05:24.514094Z",
     "start_time": "2019-10-17T12:05:24.509107Z"
    }
   },
   "outputs": [
    {
     "name": "stdout",
     "output_type": "stream",
     "text": [
      "39.2\n",
      "27.2\n",
      "27.8\n"
     ]
    }
   ],
   "source": [
    "#check irr\n",
    "\n",
    "bt = [25, 10, 12,20,15] \n",
    "at=[0,5,8,10,12]\n",
    "RR(bt,at,10)\n",
    "IRR(bt,at,10)\n",
    "IRRVQ(bt,at,10)"
   ]
  },
  {
   "cell_type": "code",
   "execution_count": 114,
   "metadata": {
    "ExecuteTime": {
     "end_time": "2019-10-17T11:49:04.284193Z",
     "start_time": "2019-10-17T11:49:04.280203Z"
    }
   },
   "outputs": [
    {
     "name": "stdout",
     "output_type": "stream",
     "text": [
      "38.4\n",
      "26.4\n"
     ]
    }
   ],
   "source": [
    "bt = [5,12,20,26,34]\n",
    "#bt=bt[::-1]\n",
    "at=[0,0,0,0,0]\n",
    "RR(bt,at,10)\n",
    "IRR(bt,at,10)\n"
   ]
  },
  {
   "cell_type": "code",
   "execution_count": 137,
   "metadata": {
    "ExecuteTime": {
     "end_time": "2019-10-17T12:18:20.009635Z",
     "start_time": "2019-10-17T12:18:20.005641Z"
    }
   },
   "outputs": [
    {
     "name": "stdout",
     "output_type": "stream",
     "text": [
      "14.875\n",
      "14.875\n",
      "14.125\n"
     ]
    }
   ],
   "source": [
    "#yoessf test\n",
    "bt=[4,4,2,8,2,5,9,1]\n",
    "at=[0,2,4,4,5,6,7,8]\n",
    "at=[0]*8\n",
    "RR(bt,at,10)\n",
    "IRR(bt,at,10)\n",
    "IRRVQ(bt,at,10)"
   ]
  },
  {
   "cell_type": "code",
   "execution_count": 139,
   "metadata": {
    "ExecuteTime": {
     "end_time": "2019-10-17T12:18:38.461330Z",
     "start_time": "2019-10-17T12:18:38.455346Z"
    }
   },
   "outputs": [
    {
     "name": "stdout",
     "output_type": "stream",
     "text": [
      "54.2\n",
      "41.2\n",
      "46.2\n"
     ]
    }
   ],
   "source": [
    "#irrvq\n",
    "bt = [15,32,10,26,20] \n",
    "at=[0,0,0,0,0]\n",
    "RR(bt,at,10)\n",
    "IRR(bt,at,10)\n",
    "IRRVQ(bt,at,10)"
   ]
  },
  {
   "cell_type": "code",
   "execution_count": 150,
   "metadata": {
    "ExecuteTime": {
     "end_time": "2019-10-17T14:56:28.747155Z",
     "start_time": "2019-10-17T14:56:28.742168Z"
    }
   },
   "outputs": [
    {
     "name": "stdout",
     "output_type": "stream",
     "text": [
      "27.0\n",
      "19.6\n",
      "19.4\n",
      "17.2\n"
     ]
    }
   ],
   "source": [
    "#irrvq\n",
    "bt = [7,25,5,36,18] \n",
    "at=[0,4,10,15,17]\n",
    "RR(bt,at,11)\n",
    "IRR(bt,at,10)\n",
    "IRRVQ(bt,at,10)\n",
    "AMRR(bt,at,10)"
   ]
  },
  {
   "cell_type": "code",
   "execution_count": 165,
   "metadata": {
    "ExecuteTime": {
     "end_time": "2019-10-17T15:04:44.620018Z",
     "start_time": "2019-10-17T15:04:44.614033Z"
    }
   },
   "outputs": [
    {
     "name": "stdout",
     "output_type": "stream",
     "text": [
      "163.75\n",
      "151.25\n",
      "113.75\n",
      "157\n",
      "38\n",
      "5\n",
      "128.0\n"
     ]
    }
   ],
   "source": []
  },
  {
   "cell_type": "code",
   "execution_count": 2,
   "metadata": {
    "ExecuteTime": {
     "end_time": "2019-10-17T15:11:54.127721Z",
     "start_time": "2019-10-17T15:11:54.073865Z"
    }
   },
   "outputs": [
    {
     "ename": "NameError",
     "evalue": "name 'RR' is not defined",
     "output_type": "error",
     "traceback": [
      "\u001b[1;31m---------------------------------------------------------------------------\u001b[0m",
      "\u001b[1;31mNameError\u001b[0m                                 Traceback (most recent call last)",
      "\u001b[1;32m<ipython-input-2-ee0ca9d6fbc2>\u001b[0m in \u001b[0;36m<module>\u001b[1;34m\u001b[0m\n\u001b[0;32m      1\u001b[0m \u001b[0mbt\u001b[0m \u001b[1;33m=\u001b[0m \u001b[1;33m[\u001b[0m\u001b[1;36m25\u001b[0m\u001b[1;33m,\u001b[0m\u001b[1;36m50\u001b[0m\u001b[1;33m,\u001b[0m\u001b[1;36m180\u001b[0m\u001b[1;33m,\u001b[0m\u001b[1;36m200\u001b[0m\u001b[1;33m]\u001b[0m\u001b[1;33m\u001b[0m\u001b[1;33m\u001b[0m\u001b[0m\n\u001b[0;32m      2\u001b[0m \u001b[0mat\u001b[0m\u001b[1;33m=\u001b[0m\u001b[1;33m[\u001b[0m\u001b[1;36m0\u001b[0m\u001b[1;33m,\u001b[0m\u001b[1;36m0\u001b[0m\u001b[1;33m,\u001b[0m\u001b[1;36m0\u001b[0m\u001b[1;33m,\u001b[0m\u001b[1;36m0\u001b[0m\u001b[1;33m]\u001b[0m\u001b[1;33m\u001b[0m\u001b[1;33m\u001b[0m\u001b[0m\n\u001b[1;32m----> 3\u001b[1;33m \u001b[0mRR\u001b[0m\u001b[1;33m(\u001b[0m\u001b[0mbt\u001b[0m\u001b[1;33m,\u001b[0m\u001b[0mat\u001b[0m\u001b[1;33m,\u001b[0m\u001b[1;36m20\u001b[0m\u001b[1;33m)\u001b[0m\u001b[1;33m\u001b[0m\u001b[1;33m\u001b[0m\u001b[0m\n\u001b[0m\u001b[0;32m      4\u001b[0m \u001b[0mIRR\u001b[0m\u001b[1;33m(\u001b[0m\u001b[0mbt\u001b[0m\u001b[1;33m,\u001b[0m\u001b[0mat\u001b[0m\u001b[1;33m,\u001b[0m\u001b[1;36m10\u001b[0m\u001b[1;33m)\u001b[0m\u001b[1;33m\u001b[0m\u001b[1;33m\u001b[0m\u001b[0m\n\u001b[0;32m      5\u001b[0m \u001b[0mIRRVQ\u001b[0m\u001b[1;33m(\u001b[0m\u001b[0mbt\u001b[0m\u001b[1;33m,\u001b[0m\u001b[0mat\u001b[0m\u001b[1;33m,\u001b[0m\u001b[1;36m10\u001b[0m\u001b[1;33m)\u001b[0m\u001b[1;33m\u001b[0m\u001b[1;33m\u001b[0m\u001b[0m\n",
      "\u001b[1;31mNameError\u001b[0m: name 'RR' is not defined"
     ]
    }
   ],
   "source": [
    "bt = [25,50,180,200] \n",
    "at=[0,0,0,0]\n",
    "RR(bt,at,20)\n",
    "IRR(bt,at,10)\n",
    "IRRVQ(bt,at,10)\n",
    "AMRR(bt,at,10)\n",
    "print(\"-------------------\")\n",
    "bt = [8,40,72,84] \n",
    "at=[0,0,0,0]\n",
    "RR(bt,at,20)\n",
    "IRR(bt,at,10)\n",
    "IRRVQ(bt,at,10)\n",
    "AMRR(bt,at,10)\n",
    "print(\"--------------------\")\n",
    "bt = [10,30,70,85] \n",
    "at=[0,4,20,25]\n",
    "RR(bt,at,20)\n",
    "IRR(bt,at,10)\n",
    "IRRVQ(bt,at,10)\n",
    "AMRR(bt,at,10)"
   ]
  },
  {
   "cell_type": "code",
   "execution_count": null,
   "metadata": {},
   "outputs": [],
   "source": []
  }
 ],
 "metadata": {
  "kernelspec": {
   "display_name": "Python 3",
   "language": "python",
   "name": "python3"
  },
  "language_info": {
   "codemirror_mode": {
    "name": "ipython",
    "version": 3
   },
   "file_extension": ".py",
   "mimetype": "text/x-python",
   "name": "python",
   "nbconvert_exporter": "python",
   "pygments_lexer": "ipython3",
   "version": "3.7.3"
  },
  "toc": {
   "base_numbering": 1,
   "nav_menu": {},
   "number_sections": true,
   "sideBar": true,
   "skip_h1_title": false,
   "title_cell": "Table of Contents",
   "title_sidebar": "Contents",
   "toc_cell": false,
   "toc_position": {},
   "toc_section_display": true,
   "toc_window_display": false
  },
  "varInspector": {
   "cols": {
    "lenName": 16,
    "lenType": 16,
    "lenVar": 40
   },
   "kernels_config": {
    "python": {
     "delete_cmd_postfix": "",
     "delete_cmd_prefix": "del ",
     "library": "var_list.py",
     "varRefreshCmd": "print(var_dic_list())"
    },
    "r": {
     "delete_cmd_postfix": ") ",
     "delete_cmd_prefix": "rm(",
     "library": "var_list.r",
     "varRefreshCmd": "cat(var_dic_list()) "
    }
   },
   "types_to_exclude": [
    "module",
    "function",
    "builtin_function_or_method",
    "instance",
    "_Feature"
   ],
   "window_display": false
  }
 },
 "nbformat": 4,
 "nbformat_minor": 2
}
