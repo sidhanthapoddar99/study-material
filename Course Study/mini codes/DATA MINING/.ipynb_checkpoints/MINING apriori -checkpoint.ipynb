{
 "cells": [
  {
   "cell_type": "markdown",
   "metadata": {},
   "source": [
    "## NAME Sidhantha Poddar\n",
    "## Roll No 17BCE2044\n",
    "\n",
    "Demonstration of Apriori algorithm on three different data sets with varying confidence (%) and\n",
    "support (%)"
   ]
  },
  {
   "cell_type": "code",
   "execution_count": 3,
   "metadata": {},
   "outputs": [],
   "source": [
    "dataset = [['Milk', 'Onion', 'Nutmeg', 'Kidney Beans', 'Eggs', 'Yogurt'],\n",
    "           ['Dill', 'Onion', 'Nutmeg', 'Kidney Beans', 'Eggs', 'Yogurt'],\n",
    "           ['Milk', 'Apple', 'Kidney Beans', 'Eggs'],\n",
    "           ['Milk', 'Unicorn', 'Corn', 'Kidney Beans', 'Yogurt'],\n",
    "           ['Corn', 'Onion', 'Onion', 'Kidney Beans', 'Ice cream', 'Eggs']]\n",
    "            \n",
    "            \n"
   ]
  },
  {
   "cell_type": "code",
   "execution_count": 8,
   "metadata": {},
   "outputs": [],
   "source": [
    "import pandas as pd\n",
    "from mlxtend.preprocessing import OnehotTransactions\n",
    "from mlxtend.frequent_patterns import apriori\n",
    "from mlxtend.frequent_patterns import association_rules\n",
    " \n"
   ]
  },
  {
   "cell_type": "code",
   "execution_count": 5,
   "metadata": {},
   "outputs": [
    {
     "name": "stdout",
     "output_type": "stream",
     "text": [
      "   Apple   Corn   Dill   Eggs  Ice cream  Kidney Beans   Milk  Nutmeg  Onion  \\\n",
      "0  False  False  False   True      False          True   True    True   True   \n",
      "1  False  False   True   True      False          True  False    True   True   \n",
      "2   True  False  False   True      False          True   True   False  False   \n",
      "3  False   True  False  False      False          True   True   False  False   \n",
      "4  False   True  False   True       True          True  False   False   True   \n",
      "\n",
      "   Unicorn  Yogurt  \n",
      "0    False    True  \n",
      "1    False    True  \n",
      "2    False   False  \n",
      "3     True    True  \n",
      "4    False   False  \n"
     ]
    },
    {
     "name": "stderr",
     "output_type": "stream",
     "text": [
      "C:\\Users\\Sid\\AppData\\Local\\conda\\conda\\envs\\cten\\lib\\site-packages\\mlxtend\\preprocessing\\onehot.py:66: DeprecationWarning: OnehotTransactions has been deprecated and will be removed in future. Please use TransactionEncoder instead.\n",
      "  warnings.warn(msg, DeprecationWarning)\n"
     ]
    }
   ],
   "source": [
    "oht = OnehotTransactions()\n",
    "oht_ary = oht.fit(dataset).transform(dataset)\n",
    "df = pd.DataFrame(oht_ary, columns=oht.columns_)\n",
    "print (df)           \n"
   ]
  },
  {
   "cell_type": "code",
   "execution_count": 6,
   "metadata": {},
   "outputs": [
    {
     "name": "stdout",
     "output_type": "stream",
     "text": [
      "    support                     itemsets\n",
      "0       0.8                       (Eggs)\n",
      "1       1.0               (Kidney Beans)\n",
      "2       0.6                       (Milk)\n",
      "3       0.6                      (Onion)\n",
      "4       0.6                     (Yogurt)\n",
      "5       0.8         (Eggs, Kidney Beans)\n",
      "6       0.6                (Eggs, Onion)\n",
      "7       0.6         (Kidney Beans, Milk)\n",
      "8       0.6        (Kidney Beans, Onion)\n",
      "9       0.6       (Yogurt, Kidney Beans)\n",
      "10      0.6  (Eggs, Kidney Beans, Onion)\n"
     ]
    }
   ],
   "source": [
    "frequent_itemsets = apriori(df, min_support=0.6, use_colnames=True)\n",
    "print (frequent_itemsets)"
   ]
  },
  {
   "cell_type": "code",
   "execution_count": 9,
   "metadata": {},
   "outputs": [
    {
     "name": "stdout",
     "output_type": "stream",
     "text": [
      "             antecedents            consequents  antecedent support  \\\n",
      "0                 (Eggs)                (Onion)                 0.8   \n",
      "1                (Onion)                 (Eggs)                 0.6   \n",
      "2   (Eggs, Kidney Beans)                (Onion)                 0.8   \n",
      "3  (Kidney Beans, Onion)                 (Eggs)                 0.6   \n",
      "4                 (Eggs)  (Kidney Beans, Onion)                 0.8   \n",
      "5                (Onion)   (Eggs, Kidney Beans)                 0.6   \n",
      "\n",
      "   consequent support  support  confidence  lift  leverage  conviction  \n",
      "0                 0.6      0.6        0.75  1.25      0.12    1.600000  \n",
      "1                 0.8      0.6        1.00  1.25      0.12         inf  \n",
      "2                 0.6      0.6        0.75  1.25      0.12    1.600000  \n",
      "3                 0.8      0.6        1.00  1.25      0.12         inf  \n",
      "4                 0.6      0.6        0.75  1.25      0.12    1.600000  \n",
      "5                 0.8      0.6        1.00  1.25      0.12         inf  \n"
     ]
    }
   ],
   "source": [
    "association_rules(frequent_itemsets, metric=\"confidence\", min_threshold=0.7)\n",
    "rules = association_rules(frequent_itemsets, metric=\"lift\", min_threshold=1.2)\n",
    "print (rules)"
   ]
  },
  {
   "cell_type": "code",
   "execution_count": 10,
   "metadata": {},
   "outputs": [
    {
     "name": "stderr",
     "output_type": "stream",
     "text": [
      "C:\\Users\\Sid\\AppData\\Local\\conda\\conda\\envs\\cten\\lib\\site-packages\\ipykernel_launcher.py:1: FutureWarning: Method .as_matrix will be removed in a future version. Use .values instead.\n",
      "  \"\"\"Entry point for launching an IPython kernel.\n",
      "C:\\Users\\Sid\\AppData\\Local\\conda\\conda\\envs\\cten\\lib\\site-packages\\ipykernel_launcher.py:2: FutureWarning: Method .as_matrix will be removed in a future version. Use .values instead.\n",
      "  \n"
     ]
    }
   ],
   "source": [
    "support=rules.as_matrix(columns=['support'])\n",
    "confidence=rules.as_matrix(columns=['confidence'])"
   ]
  },
  {
   "cell_type": "code",
   "execution_count": 12,
   "metadata": {},
   "outputs": [
    {
     "data": {
      "image/png": "[encoded data removed]",
      "text/plain": [
       "<Figure size 432x288 with 1 Axes>"
      ]
     },
     "metadata": {},
     "output_type": "display_data"
    }
   ],
   "source": [
    "import random\n",
    "import matplotlib.pyplot as plt\n",
    " \n",
    "for i in range (len(support)):\n",
    "    support[i] = support[i] + 0.0025 * (random.randint(1,10) - 5) \n",
    "    confidence[i] = confidence[i] + 0.0025 * (random.randint(1,10) - 5)\n",
    "plt.scatter(support, confidence,   alpha=0.5, marker=\"*\")\n",
    "plt.xlabel('support')\n",
    "plt.ylabel('confidence') \n",
    "plt.show()"
   ]
  },
  {
   "cell_type": "code",
   "execution_count": 18,
   "metadata": {},
   "outputs": [
    {
     "name": "stdout",
     "output_type": "stream",
     "text": [
      "    Apple   Corn   Dill   Eggs  Ice cream   Milk  Yogurt  bread  butter  \\\n",
      "0   False  False  False  False      False   True    True  False   False   \n",
      "1   False  False   True   True      False  False    True   True   False   \n",
      "2    True  False  False   True      False   True   False   True   False   \n",
      "3   False   True  False  False      False   True    True   True    True   \n",
      "4   False   True  False   True       True  False   False   True   False   \n",
      "5   False  False  False   True      False   True    True   True   False   \n",
      "6   False  False   True   True      False  False    True   True   False   \n",
      "7    True  False  False   True      False   True   False   True   False   \n",
      "8   False   True  False  False      False   True    True   True    True   \n",
      "9   False   True  False   True       True  False   False   True   False   \n",
      "10  False  False  False   True      False   True    True   True   False   \n",
      "11  False  False   True   True      False  False    True   True   False   \n",
      "12   True  False  False   True      False   True   False   True   False   \n",
      "13  False  False  False  False      False   True    True  False    True   \n",
      "14  False   True  False   True       True  False   False   True   False   \n",
      "15  False  False  False   True      False  False    True   True   False   \n",
      "16  False  False   True   True      False  False    True   True   False   \n",
      "17  False   True  False  False      False   True    True   True    True   \n",
      "18  False   True  False   True       True  False   False   True   False   \n",
      "19  False  False  False   True      False   True    True   True   False   \n",
      "20  False  False   True   True      False  False    True   True   False   \n",
      "21   True  False  False   True      False   True   False   True   False   \n",
      "22  False   True  False  False      False   True    True   True    True   \n",
      "23  False   True  False   True       True  False   False   True   False   \n",
      "24  False  False  False   True      False   True    True   True   False   \n",
      "25  False  False   True   True      False  False    True   True   False   \n",
      "26   True  False  False   True      False   True   False   True   False   \n",
      "27  False   True  False  False      False   True    True   True    True   \n",
      "28  False   True  False   True       True  False   False   True   False   \n",
      "\n",
      "    grapes  orange juice  \n",
      "0     True         False  \n",
      "1     True          True  \n",
      "2    False         False  \n",
      "3    False         False  \n",
      "4     True         False  \n",
      "5     True          True  \n",
      "6     True          True  \n",
      "7    False         False  \n",
      "8    False         False  \n",
      "9     True         False  \n",
      "10    True          True  \n",
      "11    True          True  \n",
      "12   False         False  \n",
      "13   False         False  \n",
      "14    True         False  \n",
      "15   False          True  \n",
      "16    True          True  \n",
      "17   False         False  \n",
      "18    True         False  \n",
      "19    True         False  \n",
      "20    True          True  \n",
      "21   False         False  \n",
      "22   False         False  \n",
      "23    True         False  \n",
      "24    True          True  \n",
      "25    True          True  \n",
      "26   False         False  \n",
      "27   False         False  \n",
      "28    True         False  \n"
     ]
    },
    {
     "name": "stderr",
     "output_type": "stream",
     "text": [
      "C:\\Users\\Sid\\AppData\\Local\\conda\\conda\\envs\\cten\\lib\\site-packages\\mlxtend\\preprocessing\\onehot.py:66: DeprecationWarning: OnehotTransactions has been deprecated and will be removed in future. Please use TransactionEncoder instead.\n",
      "  warnings.warn(msg, DeprecationWarning)\n"
     ]
    }
   ],
   "source": [
    "dataset = [['Milk', 'grapes', 'Yogurt'],\n",
    "           ['Dill', 'grapes', 'orange juice', 'bread', 'Eggs', 'Yogurt'],\n",
    "           ['Milk', 'Apple', 'bread', 'Eggs'],\n",
    "           ['Milk', 'butter', 'Corn', 'bread', 'Yogurt'],\n",
    "           ['Corn', 'grapes', 'grapes', 'bread', 'Ice cream', 'Eggs'],\n",
    "          ['Milk', 'grapes', 'orange juice', 'bread', 'Eggs', 'Yogurt'],\n",
    "           ['Dill', 'grapes', 'orange juice', 'bread', 'Eggs', 'Yogurt'],\n",
    "           ['Milk', 'Apple', 'bread', 'Eggs'],\n",
    "           ['Milk', 'butter', 'Corn', 'bread', 'Yogurt'],\n",
    "           ['Corn', 'grapes', 'grapes', 'bread', 'Ice cream', 'Eggs'],\n",
    "          ['Milk', 'grapes', 'orange juice', 'bread', 'Eggs', 'Yogurt'],\n",
    "           ['Dill', 'grapes', 'orange juice', 'bread', 'Eggs', 'Yogurt'],\n",
    "           ['Milk', 'Apple', 'bread', 'Eggs'],\n",
    "           ['Milk', 'butter',  'Yogurt'],\n",
    "           ['Corn', 'grapes', 'grapes', 'bread', 'Ice cream', 'Eggs'],\n",
    "          [ 'orange juice', 'bread', 'Eggs', 'Yogurt'],\n",
    "           ['Dill', 'grapes', 'orange juice', 'bread', 'Eggs', 'Yogurt'],\n",
    "           ['Milk', 'butter', 'Corn', 'bread', 'Yogurt'],\n",
    "           ['Corn', 'grapes', 'grapes', 'bread', 'Ice cream', 'Eggs'],\n",
    "          ['Milk', 'grapes',  'bread', 'Eggs', 'Yogurt'],\n",
    "           ['Dill', 'grapes', 'orange juice', 'bread', 'Eggs', 'Yogurt'],\n",
    "           ['Milk', 'Apple', 'bread', 'Eggs'],\n",
    "           ['Milk', 'butter', 'Corn', 'bread', 'Yogurt'],\n",
    "           ['Corn', 'grapes', 'grapes', 'bread', 'Ice cream', 'Eggs'],\n",
    "          ['Milk', 'grapes', 'orange juice', 'bread', 'Eggs', 'Yogurt'],\n",
    "           ['Dill', 'grapes', 'orange juice', 'bread', 'Eggs', 'Yogurt'],\n",
    "           ['Milk', 'Apple', 'bread', 'Eggs'],\n",
    "           ['Milk', 'butter', 'Corn', 'bread', 'Yogurt'],\n",
    "           ['Corn', 'grapes', 'grapes', 'bread', 'Ice cream', 'Eggs']]\n",
    "oht1 = OnehotTransactions()\n",
    "oht_ary = oht1.fit(dataset).transform(dataset)\n",
    "df = pd.DataFrame(oht_ary, columns=oht1.columns_)\n",
    "print (df) \n",
    "            "
   ]
  },
  {
   "cell_type": "code",
   "execution_count": 19,
   "metadata": {},
   "outputs": [
    {
     "name": "stdout",
     "output_type": "stream",
     "text": [
      "    support       itemsets\n",
      "0  0.758621         (Eggs)\n",
      "1  0.620690       (Yogurt)\n",
      "2  0.931034        (bread)\n",
      "3  0.758621  (bread, Eggs)\n"
     ]
    }
   ],
   "source": [
    "frequent_itemsets = apriori(df, min_support=0.6, use_colnames=True)\n",
    "print (frequent_itemsets)"
   ]
  },
  {
   "cell_type": "code",
   "execution_count": 21,
   "metadata": {},
   "outputs": [
    {
     "name": "stdout",
     "output_type": "stream",
     "text": [
      "  antecedents consequents  antecedent support  consequent support   support  \\\n",
      "0     (bread)      (Eggs)            0.931034            0.758621  0.758621   \n",
      "1      (Eggs)     (bread)            0.758621            0.931034  0.758621   \n",
      "\n",
      "   confidence      lift  leverage  conviction  \n",
      "0    0.814815  1.074074  0.052319    1.303448  \n",
      "1    1.000000  1.074074  0.052319         inf  \n"
     ]
    }
   ],
   "source": [
    "association_rules(frequent_itemsets, metric=\"confidence\", min_threshold=0.5)\n",
    "rules = association_rules(frequent_itemsets, metric=\"lift\", min_threshold=.8)\n",
    "print (rules)"
   ]
  },
  {
   "cell_type": "code",
   "execution_count": null,
   "metadata": {},
   "outputs": [],
   "source": []
  }
 ],
 "metadata": {
  "kernelspec": {
   "display_name": "Python 3",
   "language": "python",
   "name": "python3"
  },
  "language_info": {
   "codemirror_mode": {
    "name": "ipython",
    "version": 3
   },
   "file_extension": ".py",
   "mimetype": "text/x-python",
   "name": "python",
   "nbconvert_exporter": "python",
   "pygments_lexer": "ipython3",
   "version": "3.6.6"
  }
 },
 "nbformat": 4,
 "nbformat_minor": 2
}
