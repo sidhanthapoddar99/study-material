{
 "cells": [
  {
   "cell_type": "markdown",
   "metadata": {},
   "source": [
    "# binning \n",
    "- mean\n",
    "- median\n",
    "- boundries\n",
    "- equi depth\n",
    "\n",
    "# methods of binning\n",
    "- equal frequency binning\n",
    "bins have equal frequency\n",
    "- equal width binning\n",
    "bins have equal width \n",
    "with range of each bins are defined as\n",
    "min+w min+2w .... min+nw\n",
    "where w = (max-min)/(no of bins)"
   ]
  },
  {
   "cell_type": "code",
   "execution_count": 28,
   "metadata": {},
   "outputs": [],
   "source": [
    "\n",
    "def median(arr1,m):\n",
    "    \n",
    "    a=len(arr1)\n",
    "    n=int(a/m)\n",
    "    for i in range(0,m):\n",
    "        arr=[]\n",
    "        for j in range(i*n,(i+1)*n):\n",
    "            if j>=a:\n",
    "                break\n",
    "            arr=arr+[arr1[j]]\n",
    "        k=0\n",
    "        z=int(m/2)\n",
    "        if n%2==0:\n",
    "            k=(arr[z]+arr[z+1])/2\n",
    "        else:\n",
    "            k=arr[z]\n",
    "        print(k)   "
   ]
  },
  {
   "cell_type": "code",
   "execution_count": 29,
   "metadata": {},
   "outputs": [],
   "source": [
    "def equifreq(arr1,m):\n",
    "    \n",
    "    a=len(arr1)\n",
    "    n=int(a/m)\n",
    "    for i in range(0,m):\n",
    "        arr=[]\n",
    "        for j in range(i*n,(i+1)*n):\n",
    "            if j>=a:\n",
    "                break\n",
    "            arr=arr+[arr1[j]]\n",
    "        print(arr)    "
   ]
  },
  {
   "cell_type": "code",
   "execution_count": 30,
   "metadata": {},
   "outputs": [],
   "source": [
    "def meanbin(arr1,m):\n",
    "    \n",
    "    a=len(arr1)\n",
    "    n=int(a/m)\n",
    "    for i in range(0,m):\n",
    "        arr=[]\n",
    "        for j in range(i*n,(i+1)*n):\n",
    "            if j>=a:\n",
    "                break\n",
    "            arr=arr+[arr1[j]]\n",
    "        print(sum(arr)/n)    "
   ]
  },
  {
   "cell_type": "code",
   "execution_count": 6,
   "metadata": {},
   "outputs": [],
   "source": [
    "def equiwidth(arr1,m):\n",
    "    a=len(arr1)\n",
    "    w=int((max(arr1)-min(arr1))/m)\n",
    "    min1=min(arr1)\n",
    "    arr=[]\n",
    "    for i in range(0,m+1):\n",
    "        arr=arr+[min1+w*i]\n",
    "    arri=[]\n",
    "    \n",
    "    for i in range(0,m):\n",
    "        temp=[]\n",
    "        for j in arr1:\n",
    "            if j>arr[i] and j<arr[i+1]:\n",
    "                temp+=[j]\n",
    "        arri+=[temp]\n",
    "    print(arri)    "
   ]
  },
  {
   "cell_type": "code",
   "execution_count": 4,
   "metadata": {},
   "outputs": [],
   "source": [
    "a1=[5,10,11,13,15,35,50,55,72,92,204,215]\n"
   ]
  },
  {
   "cell_type": "code",
   "execution_count": 32,
   "metadata": {},
   "outputs": [
    {
     "name": "stdout",
     "output_type": "stream",
     "text": [
      "9.75\n",
      "38.75\n",
      "145.75\n"
     ]
    }
   ],
   "source": [
    "meanbin(a1,3)"
   ]
  },
  {
   "cell_type": "code",
   "execution_count": 33,
   "metadata": {},
   "outputs": [
    {
     "name": "stdout",
     "output_type": "stream",
     "text": [
      "10.5\n",
      "42.5\n",
      "148.0\n"
     ]
    }
   ],
   "source": [
    "median(a1,3)"
   ]
  },
  {
   "cell_type": "code",
   "execution_count": 34,
   "metadata": {},
   "outputs": [
    {
     "name": "stdout",
     "output_type": "stream",
     "text": [
      "[5, 10, 11, 13]\n",
      "[15, 35, 50, 55]\n",
      "[72, 92, 204, 215]\n"
     ]
    }
   ],
   "source": [
    "equi(a1,4)"
   ]
  },
  {
   "cell_type": "code",
   "execution_count": 9,
   "metadata": {},
   "outputs": [
    {
     "name": "stdout",
     "output_type": "stream",
     "text": [
      "[[10, 11, 13, 15, 35, 50, 55, 72], [92], [204]]\n",
      "None\n"
     ]
    }
   ],
   "source": [
    "print(equiwidth(a1,3))"
   ]
  },
  {
   "cell_type": "code",
   "execution_count": null,
   "metadata": {},
   "outputs": [],
   "source": []
  }
 ],
 "metadata": {
  "kernelspec": {
   "display_name": "Python 3",
   "language": "python",
   "name": "python3"
  },
  "language_info": {
   "codemirror_mode": {
    "name": "ipython",
    "version": 3
   },
   "file_extension": ".py",
   "mimetype": "text/x-python",
   "name": "python",
   "nbconvert_exporter": "python",
   "pygments_lexer": "ipython3",
   "version": "3.6.5"
  },
  "varInspector": {
   "cols": {
    "lenName": 16,
    "lenType": 16,
    "lenVar": 40
   },
   "kernels_config": {
    "python": {
     "delete_cmd_postfix": "",
     "delete_cmd_prefix": "del ",
     "library": "var_list.py",
     "varRefreshCmd": "print(var_dic_list())"
    },
    "r": {
     "delete_cmd_postfix": ") ",
     "delete_cmd_prefix": "rm(",
     "library": "var_list.r",
     "varRefreshCmd": "cat(var_dic_list()) "
    }
   },
   "types_to_exclude": [
    "module",
    "function",
    "builtin_function_or_method",
    "instance",
    "_Feature"
   ],
   "window_display": false
  }
 },
 "nbformat": 4,
 "nbformat_minor": 2
}
