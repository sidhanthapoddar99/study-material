{
 "cells": [
  {
   "cell_type": "code",
   "execution_count": 1,
   "metadata": {},
   "outputs": [],
   "source": [
    "import tweepy\n",
    "from textblob import TextBlob as tb"
   ]
  },
  {
   "cell_type": "code",
   "execution_count": 2,
   "metadata": {},
   "outputs": [],
   "source": [
    "ck=\"6oT4VXHCieLYMcJsqHf7GGDhb\"\n",
    "cs=\"KaqCTaYQNowtfQQglEodBKFv4PjmMWdvS1SEEduqOA2JSe724H\"\n",
    "at=\"538874496-6dONHo8bHQx7h9bH1xJmCIEl34BdZIeYL4J4bRwH\"\n",
    "ats=\"qtZq9HrmvJD1hc2umDfxTfWg0zxQgFIs1VehKcfJwQNVj\""
   ]
  },
  {
   "cell_type": "code",
   "execution_count": 3,
   "metadata": {},
   "outputs": [],
   "source": [
    "auth = tweepy.OAuthHandler(ck,cs)\n",
    "auth.set_access_token(at,ats)\n",
    "api=tweepy.API(auth)"
   ]
  },
  {
   "cell_type": "code",
   "execution_count": 12,
   "metadata": {},
   "outputs": [],
   "source": [
    "ptweet= api.search('poddar')"
   ]
  },
  {
   "cell_type": "code",
   "execution_count": 13,
   "metadata": {},
   "outputs": [
    {
     "name": "stdout",
     "output_type": "stream",
     "text": [
      "14\n"
     ]
    }
   ],
   "source": [
    "print(len(ptweet))"
   ]
  },
  {
   "cell_type": "code",
   "execution_count": 14,
   "metadata": {},
   "outputs": [
    {
     "name": "stdout",
     "output_type": "stream",
     "text": [
      "1\n",
      "@alokepoddar Dear Aloke Poddar, SBI accepts coins of all denominations tendered at all of our counters either for e… https://t.co/VZBHUZgvjS\n",
      "\n",
      "Sentiment(polarity=0.0, subjectivity=0.0)\n",
      "\n",
      "2\n",
      "@narendramodi Prime Minister sir we don't need to get insulted by UK for the aids (which they give to promote their… https://t.co/RE6102boKA\n",
      "\n",
      "Sentiment(polarity=0.0, subjectivity=0.0)\n",
      "\n",
      "3\n",
      "Here not mentioning the data of British Loot from Bharat.We don't need their aids.I request @narendramodi to stop accepting aids from UK.\n",
      "\n",
      "Sentiment(polarity=0.0, subjectivity=0.0)\n",
      "\n",
      "4\n",
      "Bharatiya company TATA is the biggest employer in UK with 73000 jobs.\n",
      "Bharat imported GBP 543 million worth UK… https://t.co/L9nsHvo7S6\n",
      "\n",
      "Sentiment(polarity=0.3, subjectivity=0.1)\n",
      "\n",
      "5\n",
      "According to 2016 data Bharat is third largest source of Investment in UK about 800 Bhartiya companies operate in U… https://t.co/TicZs90KEz\n",
      "\n",
      "Sentiment(polarity=0.0, subjectivity=0.0)\n",
      "\n",
      "6\n",
      "Veckopeng eller månadspeng? Och när ska man egentligen börja? Ekonomirookien @EngbergViktor i samtal med vår privat… https://t.co/yPvyTPMkKc\n",
      "\n",
      "Sentiment(polarity=0.0, subjectivity=0.0)\n",
      "\n",
      "7\n",
      "@hanifbali @Arkelsten @crehbinder Kan ni ta upp de här fynden i någon av era poddar kanske @JacobGudiol\n",
      "\n",
      "Sentiment(polarity=0.0, subjectivity=0.0)\n",
      "\n",
      "8\n",
      "@IndianInterest Is there any data about how much land Churches own in Bharat ?\n",
      "\n",
      "Sentiment(polarity=0.4, subjectivity=0.6)\n",
      "\n",
      "9\n",
      "@chitraaum मीडिया को भी किसी के पारिवारिक विषयों का कवरेज करते समय संयम बरतना चाहिये।\n",
      "\n",
      "Sentiment(polarity=0.0, subjectivity=0.0)\n",
      "\n",
      "10\n",
      "तम का दीप से पराजित होने का पर्व\n",
      "दीपावली\n",
      "अमावस्या का जब दीपमालिका से निखरता है रूप\n",
      "दीपावली https://t.co/QB51PejVgr\n",
      "\n",
      "Sentiment(polarity=0.0, subjectivity=0.0)\n",
      "\n",
      "11\n",
      "RT @Kuvalayamala: Tension builds in Kerala as 1000’s of cops deployed in &amp; around Sabarimala which reopens tomorrow as Stalinist CPM Govt d…\n",
      "\n",
      "Sentiment(polarity=0.0, subjectivity=0.0)\n",
      "\n",
      "12\n",
      "RT @SatlokChannel: #ThursdayThoughts\n",
      "\"Brahma Vishnu and Shiv are in Birth and Death. They are not Eternal.\"\n",
      "\n",
      "Evidence :- Shrimad Devi Bhagw…\n",
      "\n",
      "Sentiment(polarity=0.0, subjectivity=0.0)\n",
      "\n",
      "13\n",
      "RT @firstpost: Nervous about your child starting pre-school? Avnita Bir from RN Poddar School and Sushma Viswanathan of ETL help you calm t…\n",
      "\n",
      "Sentiment(polarity=0.15000000000000002, subjectivity=0.425)\n",
      "\n",
      "14\n",
      "RT @firstpost: From nutrition for your toddler to helping him cope with school, Avnita Bir from RN Poddar School and Sushma Viswanathan of…\n",
      "\n",
      "Sentiment(polarity=0.0, subjectivity=0.0)\n",
      "\n"
     ]
    }
   ],
   "source": [
    "pol=0\n",
    "i=1\n",
    "for tweet in ptweet:\n",
    "    print(i)\n",
    "    i+=1\n",
    "    print(tweet.text+\"\\n\")\n",
    "    an= tb(tweet.text)\n",
    "    pol+=an.sentiment.polarity\n",
    "    print(an.sentiment)\n",
    "    print()"
   ]
  },
  {
   "cell_type": "code",
   "execution_count": 7,
   "metadata": {},
   "outputs": [
    {
     "name": "stdout",
     "output_type": "stream",
     "text": [
      "0.9063492063492063\n"
     ]
    }
   ],
   "source": [
    "print(pol)"
   ]
  },
  {
   "cell_type": "code",
   "execution_count": null,
   "metadata": {},
   "outputs": [],
   "source": []
  },
  {
   "cell_type": "code",
   "execution_count": null,
   "metadata": {},
   "outputs": [],
   "source": []
  }
 ],
 "metadata": {
  "kernelspec": {
   "display_name": "Python 3",
   "language": "python",
   "name": "python3"
  },
  "language_info": {
   "codemirror_mode": {
    "name": "ipython",
    "version": 3
   },
   "file_extension": ".py",
   "mimetype": "text/x-python",
   "name": "python",
   "nbconvert_exporter": "python",
   "pygments_lexer": "ipython3",
   "version": "3.6.5"
  },
  "varInspector": {
   "cols": {
    "lenName": 16,
    "lenType": 16,
    "lenVar": 40
   },
   "kernels_config": {
    "python": {
     "delete_cmd_postfix": "",
     "delete_cmd_prefix": "del ",
     "library": "var_list.py",
     "varRefreshCmd": "print(var_dic_list())"
    },
    "r": {
     "delete_cmd_postfix": ") ",
     "delete_cmd_prefix": "rm(",
     "library": "var_list.r",
     "varRefreshCmd": "cat(var_dic_list()) "
    }
   },
   "types_to_exclude": [
    "module",
    "function",
    "builtin_function_or_method",
    "instance",
    "_Feature"
   ],
   "window_display": false
  }
 },
 "nbformat": 4,
 "nbformat_minor": 2
}
