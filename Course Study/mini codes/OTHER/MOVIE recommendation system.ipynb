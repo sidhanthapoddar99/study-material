{
 "cells": [
  {
   "cell_type": "code",
   "execution_count": 1,
   "metadata": {},
   "outputs": [],
   "source": [
    "#there are 2 ways to recommend something\n",
    "#colaborative filtering which uses user-user recomndation\n",
    "#content based recommendation item-item recomndation\n",
    "#netfix uses both of them to increase accuracy"
   ]
  },
  {
   "cell_type": "code",
   "execution_count": 2,
   "metadata": {},
   "outputs": [
    {
     "name": "stderr",
     "output_type": "stream",
     "text": [
      "C:\\Users\\Sid\\AppData\\Local\\conda\\conda\\envs\\cten\\lib\\site-packages\\lightfm\\_lightfm_fast.py:9: UserWarning: LightFM was compiled without OpenMP support. Only a single thread will be used.\n",
      "  warnings.warn('LightFM was compiled without OpenMP support. '\n"
     ]
    }
   ],
   "source": [
    "import numpy as np\n",
    "from lightfm.datasets import fetch_movielens\n",
    "from lightfm import LightFM"
   ]
  },
  {
   "cell_type": "code",
   "execution_count": 23,
   "metadata": {},
   "outputs": [],
   "source": [
    "#fetch data and format it\n",
    "data =fetch_movielens(min_rating=4.0)\n",
    "#constraint minimum rating is 4\n",
    "#fetching data in form of csv file with 100k+ ratings of movies\n",
    "#the data set contains 3 types of data \n",
    "#user-> userid , age , gender , occupation , zipcode \n",
    "#user_rating-> userid , movieid , rating , timestamp\n",
    "#movie-> movieid , title, relesedate , videorelease , imdburl , genres\n",
    "#the fetch_movielens cerates a 1+2D matrix containing user * movie \n",
    "#each intersection containg the rating given by the coresponding user\n",
    "#the data is stored in the form of a dictionary which have 5 lables \n",
    "#'train', 'test', 'item_features', 'item_feature_labels', 'item_labels'\n",
    "#bascically it is a 3D matrix in which the first layer is the type/classification layer"
   ]
  },
  {
   "cell_type": "code",
   "execution_count": 29,
   "metadata": {
    "scrolled": true
   },
   "outputs": [
    {
     "name": "stdout",
     "output_type": "stream",
     "text": [
      "<943x1682 sparse matrix of type '<class 'numpy.int32'>'\n",
      "\twith 49906 stored elements in COOrdinate format>\n",
      "<943x1682 sparse matrix of type '<class 'numpy.int32'>'\n",
      "\twith 5469 stored elements in COOrdinate format>\n",
      "['train', 'test', 'item_features', 'item_feature_labels', 'item_labels'] \n",
      "\n",
      "\n",
      "{'train': <943x1682 sparse matrix of type '<class 'numpy.int32'>'\n",
      "\twith 49906 stored elements in COOrdinate format>, 'test': <943x1682 sparse matrix of type '<class 'numpy.int32'>'\n",
      "\twith 5469 stored elements in COOrdinate format>, 'item_features': <1682x1682 sparse matrix of type '<class 'numpy.float32'>'\n",
      "\twith 1682 stored elements in Compressed Sparse Row format>, 'item_feature_labels': array(['Toy Story (1995)', 'GoldenEye (1995)', 'Four Rooms (1995)', ...,\n",
      "       'Sliding Doors (1998)', 'You So Crazy (1994)',\n",
      "       'Scream of Stone (Schrei aus Stein) (1991)'], dtype=object), 'item_labels': array(['Toy Story (1995)', 'GoldenEye (1995)', 'Four Rooms (1995)', ...,\n",
      "       'Sliding Doors (1998)', 'You So Crazy (1994)',\n",
      "       'Scream of Stone (Schrei aus Stein) (1991)'], dtype=object)}\n"
     ]
    }
   ],
   "source": [
    "print(repr(data['train']))\n",
    "print(repr(data['test']))\n",
    "print(list(data),\"\\n\\n\")\n",
    "print(data)"
   ]
  },
  {
   "cell_type": "code",
   "execution_count": 35,
   "metadata": {},
   "outputs": [],
   "source": [
    "#create model\n",
    "model=LightFM(loss='warp')\n",
    "#loss is a variable which checks for the loss between our trained model and our test model\n",
    "#warp stands for weight approximate rank pairwise\n",
    "#it uses gradient decent method "
   ]
  },
  {
   "cell_type": "code",
   "execution_count": 36,
   "metadata": {},
   "outputs": [
    {
     "data": {
      "text/plain": [
       "<lightfm.lightfm.LightFM at 0x26f961d76d8>"
      ]
     },
     "execution_count": 36,
     "metadata": {},
     "output_type": "execute_result"
    }
   ],
   "source": [
    "model.fit(data['train'],epochs=30,num_threads=2)\n",
    "#use to train data model takes the data set ot train on , no of epochs , no of threads"
   ]
  },
  {
   "cell_type": "code",
   "execution_count": 61,
   "metadata": {},
   "outputs": [
    {
     "data": {
      "text/plain": [
       "array([ 99,  49,   6,   0,   8,  13,  92,  14, 110,  12,  18,   9,  24,\n",
       "        95,  54,  11, 106,  31,  41,  23,  21,  52,  55,  56,  91,  32,\n",
       "        19,  22,   5, 113, 107,   2,  97,  60,  88,   7, 108,  15,  78,\n",
       "       112,  67,  85,  16,  30, 105,  58,  63,  69,  44,  33,  61,  48,\n",
       "        82,  20,  38,  10,   1,  53,  94, 104,   3,  25,  75,  17,  37,\n",
       "       102,  27,  76,  65,  28,  40,  59,  77, 103,  96,  36,  46,  93,\n",
       "        81,  79,  90,   4,  68, 111,  35,  84,  70,  74,  62,  26, 114,\n",
       "        80,  43,  83,  29,  50,  86,  72,  98,  73,  39,  89,  57,  34,\n",
       "        45,  64,  47,  66,  87,  71, 109, 100,  42, 101,  51], dtype=int64)"
      ]
     },
     "execution_count": 61,
     "metadata": {},
     "output_type": "execute_result"
    }
   ],
   "source": [
    "np.argsort(model.predict(3,np.arange(115))*-1)"
   ]
  },
  {
   "cell_type": "code",
   "execution_count": 54,
   "metadata": {},
   "outputs": [],
   "source": [
    "#declaring a function which takes trained model data userid\n",
    "def sample_recommendation(model,data,user_ids):\n",
    "    n_users , n_items= data['train'].shape\n",
    "    #shape function returns the rows into coulmn of the data set\n",
    "    \n",
    "    #generate recommendation for each user we input  \n",
    "    for user_id in user_ids:\n",
    "        #movies which are already liked by the user previously\n",
    "        known_positives = data['item_labels'][data['train'].tocsr()[user_id].indices]\n",
    "        #movies our model predict they like\n",
    "        scores = model.predict(user_id, np.arange(n_items))\n",
    "        #print(scores)\n",
    "        #order them in most liked to least liked\n",
    "        top_items = data['item_labels'][np.argsort(-scores)]\n",
    "\n",
    "        #print out the results\n",
    "        print (\"user %s\" % user_id)\n",
    "        print (\"         known positives:\")\n",
    "\n",
    "        for x in known_positives[:10]:\n",
    "            print(\"              %s\" % x)\n",
    "\n",
    "        print(\"          Recommended:\")\n",
    "\n",
    "        for x in top_items[:10]:\n",
    "            print(\"             %s\" % x)\n",
    "           \n",
    "    \n",
    "    "
   ]
  },
  {
   "cell_type": "code",
   "execution_count": 55,
   "metadata": {},
   "outputs": [
    {
     "name": "stdout",
     "output_type": "stream",
     "text": [
      "[-0.27649835 -2.8295958  -1.3815906  ... -2.70033073 -2.79580498\n",
      " -2.80047917]\n",
      "user 2\n",
      "         known positives:\n",
      "              Return of the Jedi (1983)\n",
      "              Event Horizon (1997)\n",
      "              Schindler's List (1993)\n",
      "              Paradise Lost: The Child Murders at Robin Hood Hills (1996)\n",
      "              Mother (1996)\n",
      "              Cop Land (1997)\n",
      "              Desperate Measures (1998)\n",
      "              Boogie Nights (1997)\n",
      "              Man Who Knew Too Little, The (1997)\n",
      "              Apostle, The (1997)\n",
      "          Recommended:\n",
      "             L.A. Confidential (1997)\n",
      "             English Patient, The (1996)\n",
      "             Titanic (1997)\n",
      "             Full Monty, The (1997)\n",
      "             Boogie Nights (1997)\n",
      "             Fargo (1996)\n",
      "             Contact (1997)\n",
      "             Chasing Amy (1997)\n",
      "             Air Force One (1997)\n",
      "             Good Will Hunting (1997)\n",
      "[-2.0555501  -4.42897654 -4.54106092 ... -6.71838236 -6.55838442\n",
      " -6.73680401]\n",
      "user 71\n",
      "         known positives:\n",
      "              Toy Story (1995)\n",
      "              Copycat (1995)\n",
      "              Dead Man Walking (1995)\n",
      "              Usual Suspects, The (1995)\n",
      "              Mr. Holland's Opus (1995)\n",
      "              Taxi Driver (1976)\n",
      "              Birdcage, The (1996)\n",
      "              Apollo 13 (1995)\n",
      "              Eat Drink Man Woman (1994)\n",
      "              Legends of the Fall (1994)\n",
      "          Recommended:\n",
      "             Silence of the Lambs, The (1991)\n",
      "             Raiders of the Lost Ark (1981)\n",
      "             Fargo (1996)\n",
      "             Schindler's List (1993)\n",
      "             Star Wars (1977)\n",
      "             Shawshank Redemption, The (1994)\n",
      "             Forrest Gump (1994)\n",
      "             To Kill a Mockingbird (1962)\n",
      "             Pulp Fiction (1994)\n",
      "             One Flew Over the Cuckoo's Nest (1975)\n",
      "[ 0.29012555 -2.58163261 -0.82253653 ... -3.55305481 -3.53745365\n",
      " -3.55371332]\n",
      "user 156\n",
      "         known positives:\n",
      "              Toy Story (1995)\n",
      "              Star Wars (1977)\n",
      "              Fargo (1996)\n",
      "              Rock, The (1996)\n",
      "              Big Night (1996)\n",
      "              Long Kiss Goodnight, The (1996)\n",
      "              Mars Attacks! (1996)\n",
      "              Smilla's Sense of Snow (1997)\n",
      "              Chasing Amy (1997)\n",
      "              Full Monty, The (1997)\n",
      "          Recommended:\n",
      "             Scream (1996)\n",
      "             Fargo (1996)\n",
      "             Contact (1997)\n",
      "             Titanic (1997)\n",
      "             English Patient, The (1996)\n",
      "             L.A. Confidential (1997)\n",
      "             Jerry Maguire (1996)\n",
      "             Trainspotting (1996)\n",
      "             Chasing Amy (1997)\n",
      "             People vs. Larry Flynt, The (1996)\n"
     ]
    }
   ],
   "source": [
    "sample_recommendation(model, data , [2 , 71, 156])"
   ]
  },
  {
   "cell_type": "code",
   "execution_count": null,
   "metadata": {},
   "outputs": [],
   "source": []
  }
 ],
 "metadata": {
  "kernelspec": {
   "display_name": "Python 3",
   "language": "python",
   "name": "python3"
  },
  "language_info": {
   "codemirror_mode": {
    "name": "ipython",
    "version": 3
   },
   "file_extension": ".py",
   "mimetype": "text/x-python",
   "name": "python",
   "nbconvert_exporter": "python",
   "pygments_lexer": "ipython3",
   "version": "3.6.5"
  },
  "varInspector": {
   "cols": {
    "lenName": 16,
    "lenType": 16,
    "lenVar": 40
   },
   "kernels_config": {
    "python": {
     "delete_cmd_postfix": "",
     "delete_cmd_prefix": "del ",
     "library": "var_list.py",
     "varRefreshCmd": "print(var_dic_list())"
    },
    "r": {
     "delete_cmd_postfix": ") ",
     "delete_cmd_prefix": "rm(",
     "library": "var_list.r",
     "varRefreshCmd": "cat(var_dic_list()) "
    }
   },
   "types_to_exclude": [
    "module",
    "function",
    "builtin_function_or_method",
    "instance",
    "_Feature"
   ],
   "window_display": false
  }
 },
 "nbformat": 4,
 "nbformat_minor": 2
}
