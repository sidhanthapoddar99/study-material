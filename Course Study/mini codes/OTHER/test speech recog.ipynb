{
 "cells": [
  {
   "cell_type": "code",
   "execution_count": 1,
   "metadata": {},
   "outputs": [],
   "source": [
    "import speech_recognition as sr\n",
    " \n",
    "# Record Audio\n",
    "r = sr.Recognizer()\n",
    "mic = sr.Microphone(device_index=0)"
   ]
  },
  {
   "cell_type": "code",
   "execution_count": 2,
   "metadata": {},
   "outputs": [
    {
     "data": {
      "text/plain": [
       "['Microsoft Sound Mapper - Input',\n",
       " 'Microphone (Realtek(R) Audio)',\n",
       " 'Microsoft Sound Mapper - Output',\n",
       " 'Speakers/Headphones (Realtek(R)']"
      ]
     },
     "execution_count": 2,
     "metadata": {},
     "output_type": "execute_result"
    }
   ],
   "source": [
    "sr.Microphone.list_microphone_names()"
   ]
  },
  {
   "cell_type": "code",
   "execution_count": 5,
   "metadata": {},
   "outputs": [
    {
     "name": "stdout",
     "output_type": "stream",
     "text": [
      "mic started\n",
      "mic ended\n",
      "\n",
      "\n"
     ]
    }
   ],
   "source": [
    "print(\"mic started\")\n",
    "with mic as source:\n",
    "    r.adjust_for_ambient_noise(source)\n",
    "    audio = r.listen(source)\n",
    "print(\"mic ended\\n\\n\")    "
   ]
  },
  {
   "cell_type": "code",
   "execution_count": 8,
   "metadata": {
    "scrolled": true
   },
   "outputs": [],
   "source": [
    "speech_to_text = r.recognize_google(audio)"
   ]
  },
  {
   "cell_type": "code",
   "execution_count": 9,
   "metadata": {},
   "outputs": [
    {
     "name": "stdout",
     "output_type": "stream",
     "text": [
      " Translated string:what's your name\n",
      "\n"
     ]
    }
   ],
   "source": [
    "print(\" Translated string:\" + speech_to_text )\n",
    "print()"
   ]
  },
  {
   "cell_type": "code",
   "execution_count": null,
   "metadata": {},
   "outputs": [],
   "source": []
  },
  {
   "cell_type": "code",
   "execution_count": 10,
   "metadata": {},
   "outputs": [],
   "source": [
    "from googletrans import Translator  # Import Translator module from googletrans package"
   ]
  },
  {
   "cell_type": "code",
   "execution_count": 11,
   "metadata": {},
   "outputs": [],
   "source": [
    "translator = Translator() # Create object of Translator."
   ]
  },
  {
   "cell_type": "code",
   "execution_count": 12,
   "metadata": {},
   "outputs": [],
   "source": [
    "translated = translator.translate(speech_to_text, src='en', dest='hi')\n"
   ]
  },
  {
   "cell_type": "code",
   "execution_count": 13,
   "metadata": {},
   "outputs": [
    {
     "name": "stdout",
     "output_type": "stream",
     "text": [
      " Translated string:तुम्हारा नाम क्या है\n"
     ]
    }
   ],
   "source": [
    "print(\" Translated string:\" + translated.text) "
   ]
  },
  {
   "cell_type": "code",
   "execution_count": null,
   "metadata": {},
   "outputs": [],
   "source": [
    "\"\"\"\n",
    "# Language Translator\n",
    "from googletrans import Translator  # Import Translator module from googletrans package\n",
    "\n",
    "translator = Translator() # Create object of Translator.\n",
    "\n",
    "translated = translator.translate('안녕하세요') \n",
    "\n",
    "# Source language auto detect by google trans\n",
    "# By default destination language is English\n",
    "\n",
    "print(\" Source Language:\" + translated.src) \n",
    "# Output: Source Language: ko\n",
    "\n",
    "print(\" Translated string:\" + translated.text)\n",
    "# Output: Translated string: Good evening\n",
    "\n",
    "\n",
    "\n",
    "\n",
    "translated = translator.translate('안녕하세요', src='ko') # Pass only source language\n",
    "translated = translator.translate('안녕하세요', dest='en') # Pass only destination language\n",
    "translated = translator.translate('안녕하세요', src='ko', dest='en') # Pass both source and destinatio\n",
    "\n",
    "translated = translator.translate('안녕하세요', src='ko', dest='ja')\n",
    "\n",
    "print(\" Source Language:\" + translated.src)\n",
    "# Output: Source Language: ko\n",
    "\n",
    "print(\" Translated string:\" + translated.text) \n",
    "# Output: Translated string: こんにちは\n",
    "\n",
    "print(\" Pronunciation:\", translated.pronunciation)\n",
    "# Output: Pronunciation: Kon'nichiwa\n",
    "\n",
    "https://www.codeproject.com/Tips/1236705/How-to-Use-Google-Translator-in-Python\n",
    "\n",
    "\"\"\""
   ]
  },
  {
   "cell_type": "code",
   "execution_count": 18,
   "metadata": {},
   "outputs": [
    {
     "data": {
      "text/plain": [
       "'\\nimport gtts,os\\nfrom gtts import gTTS\\ntts=gTTS(\"Hello this is the normal texr\",lang=\"en\",slow=TRUE)\\ntts.save(\"test.mp3\")\\nos.system(\"test.mp3\")\\nos.remove(\"test.mp3\")\\n'"
      ]
     },
     "execution_count": 18,
     "metadata": {},
     "output_type": "execute_result"
    }
   ],
   "source": [
    "\"\"\"\n",
    "import gtts,os\n",
    "from gtts import gTTS\n",
    "tts=gTTS(\"Hello this is the normal texr\",lang=\"en\",slow=TRUE)\n",
    "tts.save(\"test.mp3\")\n",
    "os.system(\"test.mp3\")\n",
    "os.remove(\"test.mp3\")\n",
    "\"\"\""
   ]
  },
  {
   "cell_type": "code",
   "execution_count": 35,
   "metadata": {},
   "outputs": [],
   "source": [
    "translated1 = translator.translate(\"how are you\", src='en', dest='hi')\n",
    "st=translated1.text"
   ]
  },
  {
   "cell_type": "code",
   "execution_count": 37,
   "metadata": {},
   "outputs": [
    {
     "ename": "TypeError",
     "evalue": "Dispatch() got an unexpected keyword argument 'lang'",
     "output_type": "error",
     "traceback": [
      "\u001b[1;31m---------------------------------------------------------------------------\u001b[0m",
      "\u001b[1;31mTypeError\u001b[0m                                 Traceback (most recent call last)",
      "\u001b[1;32m<ipython-input-37-f99797ea5564>\u001b[0m in \u001b[0;36m<module>\u001b[1;34m\u001b[0m\n\u001b[0;32m      1\u001b[0m \u001b[1;33m\u001b[0m\u001b[0m\n\u001b[0;32m      2\u001b[0m \u001b[1;32mimport\u001b[0m \u001b[0mwin32com\u001b[0m\u001b[1;33m.\u001b[0m\u001b[0mclient\u001b[0m \u001b[1;32mas\u001b[0m \u001b[0mwi\u001b[0m\u001b[1;33m\u001b[0m\u001b[0m\n\u001b[1;32m----> 3\u001b[1;33m \u001b[0msp\u001b[0m\u001b[1;33m=\u001b[0m\u001b[0mwi\u001b[0m\u001b[1;33m.\u001b[0m\u001b[0mDispatch\u001b[0m\u001b[1;33m(\u001b[0m\u001b[1;34m\"SAPI.SpVoice\"\u001b[0m\u001b[1;33m,\u001b[0m\u001b[0mlang\u001b[0m\u001b[1;33m=\u001b[0m\u001b[1;34m\"en\"\u001b[0m\u001b[1;33m)\u001b[0m\u001b[1;33m\u001b[0m\u001b[0m\n\u001b[0m\u001b[0;32m      4\u001b[0m \u001b[0msp\u001b[0m\u001b[1;33m.\u001b[0m\u001b[0mSpeak\u001b[0m\u001b[1;33m(\u001b[0m\u001b[0mst\u001b[0m\u001b[1;33m)\u001b[0m\u001b[1;33m\u001b[0m\u001b[0m\n",
      "\u001b[1;31mTypeError\u001b[0m: Dispatch() got an unexpected keyword argument 'lang'"
     ]
    }
   ],
   "source": [
    "\n",
    "import win32com.client as wi\n",
    "sp=wi.Dispatch(\"SAPI.SpVoice\",lang=\"en\")\n",
    "sp.Speak(st)"
   ]
  },
  {
   "cell_type": "code",
   "execution_count": null,
   "metadata": {},
   "outputs": [],
   "source": []
  }
 ],
 "metadata": {
  "kernelspec": {
   "display_name": "Python 3",
   "language": "python",
   "name": "python3"
  },
  "language_info": {
   "codemirror_mode": {
    "name": "ipython",
    "version": 3
   },
   "file_extension": ".py",
   "mimetype": "text/x-python",
   "name": "python",
   "nbconvert_exporter": "python",
   "pygments_lexer": "ipython3",
   "version": "3.6.5"
  },
  "varInspector": {
   "cols": {
    "lenName": 16,
    "lenType": 16,
    "lenVar": 40
   },
   "kernels_config": {
    "python": {
     "delete_cmd_postfix": "",
     "delete_cmd_prefix": "del ",
     "library": "var_list.py",
     "varRefreshCmd": "print(var_dic_list())"
    },
    "r": {
     "delete_cmd_postfix": ") ",
     "delete_cmd_prefix": "rm(",
     "library": "var_list.r",
     "varRefreshCmd": "cat(var_dic_list()) "
    }
   },
   "types_to_exclude": [
    "module",
    "function",
    "builtin_function_or_method",
    "instance",
    "_Feature"
   ],
   "window_display": false
  }
 },
 "nbformat": 4,
 "nbformat_minor": 2
}
