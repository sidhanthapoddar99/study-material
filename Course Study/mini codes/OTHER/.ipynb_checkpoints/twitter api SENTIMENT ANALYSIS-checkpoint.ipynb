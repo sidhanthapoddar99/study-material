{
 "cells": [
  {
   "cell_type": "code",
   "execution_count": 4,
   "metadata": {},
   "outputs": [],
   "source": [
    "import tweepy\n",
    "from textblob import TextBlob as tb"
   ]
  },
  {
   "cell_type": "code",
   "execution_count": 5,
   "metadata": {},
   "outputs": [],
   "source": [
    "ck=\"6oT4VXHCieLYMcJsqHf7GGDhb\"\n",
    "cs=\"KaqCTaYQNowtfQQglEodBKFv4PjmMWdvS1SEEduqOA2JSe724H\"\n",
    "at=\"538874496-6dONHo8bHQx7h9bH1xJmCIEl34BdZIeYL4J4bRwH\"\n",
    "ats=\"qtZq9HrmvJD1hc2umDfxTfWg0zxQgFIs1VehKcfJwQNVj\""
   ]
  },
  {
   "cell_type": "code",
   "execution_count": 8,
   "metadata": {},
   "outputs": [],
   "source": [
    "auth = tweepy.OAuthHandler(ck,cs)\n",
    "auth.set_access_token(at,ats)\n",
    "api=tweepy.API(auth)"
   ]
  },
  {
   "cell_type": "code",
   "execution_count": 68,
   "metadata": {},
   "outputs": [],
   "source": [
    "ptweet= api.search('love')"
   ]
  },
  {
   "cell_type": "code",
   "execution_count": 69,
   "metadata": {},
   "outputs": [
    {
     "name": "stdout",
     "output_type": "stream",
     "text": [
      "15\n"
     ]
    }
   ],
   "source": [
    "print(len(ptweet))"
   ]
  },
  {
   "cell_type": "code",
   "execution_count": 70,
   "metadata": {},
   "outputs": [
    {
     "name": "stdout",
     "output_type": "stream",
     "text": [
      "1\n",
      "Elle est vraiment en train de raconter des funfacts with her whole mouth... I love the woman https://t.co/t2lKgeUTOI\n",
      "\n",
      "Sentiment(polarity=0.35, subjectivity=0.5)\n",
      "\n",
      "2\n",
      "RT @JayyPhelps: I love attention, not just sex but cuddling, holding hands, eye contact and back rubs idc..\n",
      "\n",
      "Sentiment(polarity=0.25, subjectivity=0.3)\n",
      "\n",
      "3\n",
      "RT @Lewa_BK: And Another Love Song For The ladies as well @samini_dagaati 👉🏾👉🏾👉🏾  https://t.co/bzQsLDhrEW\n",
      "\n",
      "Sentiment(polarity=0.5, subjectivity=0.6)\n",
      "\n",
      "4\n",
      "Could Tottenham recover from #UCL defeat to Barcelona tonight?\n",
      "https://t.co/g9GWsHnXHm\n",
      "\n",
      "Sentiment(polarity=0.0, subjectivity=0.0)\n",
      "\n",
      "5\n",
      "RT @iarayna_17: Happy 23rd Birthday Jeonghan! Carats are here to shower you with all the love you deserve. ❤️\n",
      "#캐럿들의_천사_정한아_생일축하해 #ANGELJEON…\n",
      "\n",
      "Sentiment(polarity=0.75, subjectivity=0.8)\n",
      "\n",
      "6\n",
      "UGH MDFKKFKFKGK I LOVE GENERATION WHY SO MUCH I STAN @conangray THANK YOU FOR BLESSING US WITH A GREAT SONG\n",
      "\n",
      "Sentiment(polarity=0.5, subjectivity=0.5166666666666667)\n",
      "\n",
      "7\n",
      "RT @BrysonTlIIer: i don't think i've ever been loved as hard as i love\n",
      "\n",
      "Sentiment(polarity=0.30277777777777776, subjectivity=0.6472222222222223)\n",
      "\n",
      "8\n",
      "RT @officialkarkosa: Special thank you to our fan club, we all love the gifts and personal letters ❤️💕🇰🇷 we are so lucky\n",
      "\n",
      "Sentiment(polarity=0.2976190476190476, subjectivity=0.5761904761904761)\n",
      "\n",
      "9\n",
      "#NowPlaying #TranceFamily #Trance Aly &amp; Fila - Is It Love? (Feat. Ever Burn) https://t.co/Gd9nLgJhCD https://t.co/VEivBsGArJ\n",
      "\n",
      "Sentiment(polarity=0.5, subjectivity=0.6)\n",
      "\n",
      "10\n",
      "RT @OpinionOnion7: Dear .@SenatorCollins: It is your responsibility to listen to the FACTS and NOT take everything so darn personal. Presid…\n",
      "\n",
      "Sentiment(polarity=0.0, subjectivity=0.3)\n",
      "\n",
      "11\n",
      "LIKE AND I’ll SEND YOU AN EMOJI\n",
      "\n",
      "❤️- I love you \n",
      "😍- I want to be your friend\n",
      "💕- you are lovely\n",
      "😒- I hate you \n",
      "👌🏻- I… https://t.co/XMnQMJiwVU\n",
      "\n",
      "Sentiment(polarity=0.06666666666666665, subjectivity=0.75)\n",
      "\n",
      "12\n",
      "RT @decafmari_: STOP APOLOGIZING FOR EVERYTHING YOU DO!! YOU’RE NOT MAKING PEOPLE UNCOMFORTABLE!!!! BE YOURSELF BE AUTHENTIC!!!!! PUT YOURS…\n",
      "\n",
      "Sentiment(polarity=0.0, subjectivity=0.875)\n",
      "\n",
      "13\n",
      "RT @jinKissLetsgo: 181002 chicago Love yourself Tour \n",
      "\n",
      "#LOVE_YOURSELF #EPIPHANY \n",
      "#김석진 #진 #JIN #BTS #방탄소년단 #LoveYourselfinChicago #LoveYours…\n",
      "\n",
      "Sentiment(polarity=0.5, subjectivity=0.6)\n",
      "\n",
      "14\n",
      "RT @ColleenB123: HI I LOVE YOU GUYS A LOT\n",
      "\n",
      "Sentiment(polarity=0.5, subjectivity=0.6)\n",
      "\n",
      "15\n",
      "RT @Charlene_xoxo_: Happy National Boyfriend Day 😘 I’m so thankful to have you in my life Andrew,  love you so much💫💗🌎 https://t.co/p58fAhi…\n",
      "\n",
      "Sentiment(polarity=0.65, subjectivity=0.8)\n",
      "\n"
     ]
    }
   ],
   "source": [
    "pol=0\n",
    "i=1\n",
    "for tweet in ptweet:\n",
    "    print(i)\n",
    "    i+=1\n",
    "    print(tweet.text+\"\\n\")\n",
    "    an= tb(tweet.text)\n",
    "    pol+=an.sentiment.polarity\n",
    "    print(an.sentiment)\n",
    "    print()"
   ]
  },
  {
   "cell_type": "code",
   "execution_count": 71,
   "metadata": {},
   "outputs": [
    {
     "name": "stdout",
     "output_type": "stream",
     "text": [
      "5.167063492063492\n"
     ]
    }
   ],
   "source": [
    "print(pol)"
   ]
  },
  {
   "cell_type": "code",
   "execution_count": null,
   "metadata": {},
   "outputs": [],
   "source": []
  },
  {
   "cell_type": "code",
   "execution_count": null,
   "metadata": {},
   "outputs": [],
   "source": []
  }
 ],
 "metadata": {
  "kernelspec": {
   "display_name": "Python 3",
   "language": "python",
   "name": "python3"
  },
  "language_info": {
   "codemirror_mode": {
    "name": "ipython",
    "version": 3
   },
   "file_extension": ".py",
   "mimetype": "text/x-python",
   "name": "python",
   "nbconvert_exporter": "python",
   "pygments_lexer": "ipython3",
   "version": "3.6.6"
  }
 },
 "nbformat": 4,
 "nbformat_minor": 2
}
