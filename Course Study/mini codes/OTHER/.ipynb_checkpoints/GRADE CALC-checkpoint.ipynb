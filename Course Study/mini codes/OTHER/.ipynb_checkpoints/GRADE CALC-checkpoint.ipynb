{
 "cells": [
  {
   "cell_type": "code",
   "execution_count": 376,
   "metadata": {
    "ExecuteTime": {
     "end_time": "2019-11-25T17:24:41.442274Z",
     "start_time": "2019-11-25T17:24:41.438286Z"
    }
   },
   "outputs": [],
   "source": [
    "from statistics import stdev\n",
    "import numpy.random as rand\n",
    "import matplotlib as plt"
   ]
  },
  {
   "cell_type": "code",
   "execution_count": 119,
   "metadata": {
    "ExecuteTime": {
     "end_time": "2019-11-25T17:05:39.450886Z",
     "start_time": "2019-11-25T17:05:39.446899Z"
    }
   },
   "outputs": [],
   "source": [
    "arr=list(map(int,rand.rand(50)*100))\n"
   ]
  },
  {
   "cell_type": "code",
   "execution_count": 120,
   "metadata": {
    "ExecuteTime": {
     "end_time": "2019-11-25T17:05:40.112536Z",
     "start_time": "2019-11-25T17:05:40.108581Z"
    }
   },
   "outputs": [],
   "source": [
    "m=sum(arr)/100\n",
    "sd=stdev(arr)"
   ]
  },
  {
   "cell_type": "code",
   "execution_count": 121,
   "metadata": {
    "ExecuteTime": {
     "end_time": "2019-11-25T17:05:40.575333Z",
     "start_time": "2019-11-25T17:05:40.571344Z"
    }
   },
   "outputs": [
    {
     "data": {
      "text/plain": [
       "26.98840264911987"
      ]
     },
     "execution_count": 121,
     "metadata": {},
     "output_type": "execute_result"
    }
   ],
   "source": [
    "sd"
   ]
  },
  {
   "cell_type": "code",
   "execution_count": 122,
   "metadata": {
    "ExecuteTime": {
     "end_time": "2019-11-25T17:05:41.237538Z",
     "start_time": "2019-11-25T17:05:41.233548Z"
    }
   },
   "outputs": [
    {
     "data": {
      "text/plain": [
       "24.22"
      ]
     },
     "execution_count": 122,
     "metadata": {},
     "output_type": "execute_result"
    }
   ],
   "source": [
    "m"
   ]
  },
  {
   "cell_type": "code",
   "execution_count": 123,
   "metadata": {
    "ExecuteTime": {
     "end_time": "2019-11-25T17:05:41.774267Z",
     "start_time": "2019-11-25T17:05:41.771311Z"
    }
   },
   "outputs": [],
   "source": [
    "c=0\n",
    "for i in arr:\n",
    "    if(i>=(m+sd*1.5)):\n",
    "        c+=1"
   ]
  },
  {
   "cell_type": "code",
   "execution_count": 124,
   "metadata": {
    "ExecuteTime": {
     "end_time": "2019-11-25T17:05:42.174424Z",
     "start_time": "2019-11-25T17:05:42.170435Z"
    }
   },
   "outputs": [
    {
     "data": {
      "text/plain": [
       "12"
      ]
     },
     "execution_count": 124,
     "metadata": {},
     "output_type": "execute_result"
    }
   ],
   "source": [
    "c"
   ]
  },
  {
   "cell_type": "code",
   "execution_count": 374,
   "metadata": {
    "ExecuteTime": {
     "end_time": "2019-11-25T17:23:57.309433Z",
     "start_time": "2019-11-25T17:23:57.300458Z"
    }
   },
   "outputs": [
    {
     "name": "stdout",
     "output_type": "stream",
     "text": [
      "72.14    11.830451886413075\n",
      "5   12   12   21\n"
     ]
    }
   ],
   "source": [
    "arr1=list(map(int,rand.rand(1000)*500))\n",
    "arr=[]\n",
    "for i in arr1:\n",
    "    if i>40 and i<80:\n",
    "        arr+=[i+15]\n",
    "if len(arr)>50:\n",
    "    arr=arr[:50]\n",
    "m=sum(arr)/len(arr)\n",
    "sd=stdev(arr)\n",
    "print(m,\"  \",sd)\n",
    "s=0\n",
    "a=0\n",
    "b=0\n",
    "c=0\n",
    "d=0\n",
    "for i in arr:\n",
    "    if(i>=(m+sd*1.5)):\n",
    "        s+=1\n",
    "    elif(i>=(m+sd*0.5)):\n",
    "        a+=1\n",
    "    elif(i>=(m-sd*0.5)):\n",
    "        b+=1\n",
    "    elif(i>=(m-sd*1.5)):\n",
    "        c+=1\n",
    "print(s,\" \",a,\" \",b,\" \",c)\n"
   ]
  },
  {
   "cell_type": "code",
   "execution_count": 355,
   "metadata": {
    "ExecuteTime": {
     "end_time": "2019-11-25T17:20:57.882234Z",
     "start_time": "2019-11-25T17:20:57.877256Z"
    }
   },
   "outputs": [
    {
     "data": {
      "text/plain": [
       "[71,\n",
       " 61,\n",
       " 68,\n",
       " 72,\n",
       " 56,\n",
       " 80,\n",
       " 82,\n",
       " 58,\n",
       " 93,\n",
       " 60,\n",
       " 91,\n",
       " 58,\n",
       " 64,\n",
       " 69,\n",
       " 88,\n",
       " 62,\n",
       " 60,\n",
       " 85,\n",
       " 65,\n",
       " 58,\n",
       " 67,\n",
       " 61,\n",
       " 92,\n",
       " 81,\n",
       " 60,\n",
       " 63,\n",
       " 60,\n",
       " 65,\n",
       " 58,\n",
       " 72,\n",
       " 78,\n",
       " 60,\n",
       " 59,\n",
       " 67,\n",
       " 57,\n",
       " 63,\n",
       " 91,\n",
       " 61,\n",
       " 65,\n",
       " 61,\n",
       " 88,\n",
       " 84,\n",
       " 82,\n",
       " 73,\n",
       " 62,\n",
       " 84,\n",
       " 70,\n",
       " 93,\n",
       " 76,\n",
       " 60]"
      ]
     },
     "execution_count": 355,
     "metadata": {},
     "output_type": "execute_result"
    }
   ],
   "source": [
    "def avg(,cb):    \n",
    "    arr1=list(map(int,rand.rand(1000)*500))\n",
    "    arr=[]\n",
    "    for i in arr1:\n",
    "        if i>40 and i<80:\n",
    "            arr+=[i+15]\n",
    "    if len(arr)>50:\n",
    "        arr=arr[:50]\n",
    "    m=sum(arr)/len(arr)\n",
    "    sd=stdev(arr)\n",
    "    print(m,\"  \",sd)\n",
    "    s=0\n",
    "    a=0\n",
    "    b=0\n",
    "    c=0\n",
    "    d=0\n",
    "    for i in arr:\n",
    "        if(i>=(m+sd*1.5)):\n",
    "            s+=1\n",
    "        elif(i>=(m+sd*0.5)):\n",
    "            a+=1\n",
    "        elif(i>=(m-sd*0.5)):\n",
    "            b+=1\n",
    "        elif(i>=(m-sd*1.5)):\n",
    "            c+=1\n",
    "    print(s,\" \",a,\" \",b,\" \",c)     "
   ]
  },
  {
   "cell_type": "code",
   "execution_count": null,
   "metadata": {},
   "outputs": [],
   "source": []
  }
 ],
 "metadata": {
  "kernelspec": {
   "display_name": "Python 3",
   "language": "python",
   "name": "python3"
  },
  "language_info": {
   "codemirror_mode": {
    "name": "ipython",
    "version": 3
   },
   "file_extension": ".py",
   "mimetype": "text/x-python",
   "name": "python",
   "nbconvert_exporter": "python",
   "pygments_lexer": "ipython3",
   "version": "3.7.3"
  },
  "latex_envs": {
   "LaTeX_envs_menu_present": true,
   "autoclose": false,
   "autocomplete": true,
   "bibliofile": "biblio.bib",
   "cite_by": "apalike",
   "current_citInitial": 1,
   "eqLabelWithNumbers": true,
   "eqNumInitial": 1,
   "hotkeys": {
    "equation": "Ctrl-E",
    "itemize": "Ctrl-I"
   },
   "labels_anchors": false,
   "latex_user_defs": false,
   "report_style_numbering": false,
   "user_envs_cfg": false
  },
  "toc": {
   "base_numbering": 1,
   "nav_menu": {},
   "number_sections": true,
   "sideBar": true,
   "skip_h1_title": false,
   "title_cell": "Table of Contents",
   "title_sidebar": "Contents",
   "toc_cell": false,
   "toc_position": {},
   "toc_section_display": true,
   "toc_window_display": false
  },
  "varInspector": {
   "cols": {
    "lenName": 16,
    "lenType": 16,
    "lenVar": 40
   },
   "kernels_config": {
    "python": {
     "delete_cmd_postfix": "",
     "delete_cmd_prefix": "del ",
     "library": "var_list.py",
     "varRefreshCmd": "print(var_dic_list())"
    },
    "r": {
     "delete_cmd_postfix": ") ",
     "delete_cmd_prefix": "rm(",
     "library": "var_list.r",
     "varRefreshCmd": "cat(var_dic_list()) "
    }
   },
   "types_to_exclude": [
    "module",
    "function",
    "builtin_function_or_method",
    "instance",
    "_Feature"
   ],
   "window_display": false
  }
 },
 "nbformat": 4,
 "nbformat_minor": 2
}
